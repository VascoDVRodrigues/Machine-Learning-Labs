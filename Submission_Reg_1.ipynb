{
 "cells": [
  {
   "cell_type": "markdown",
   "metadata": {},
   "source": [
    "# Project  Part 1 - Regression\n",
    "## First Problem"
   ]
  },
  {
   "cell_type": "code",
   "execution_count": 6,
   "metadata": {},
   "outputs": [],
   "source": [
    "import numpy as np\n",
    "from sklearn import linear_model\n",
    "from sklearn.model_selection import cross_validate"
   ]
  },
  {
   "cell_type": "markdown",
   "metadata": {},
   "source": [
    "We begin by loading the datasets"
   ]
  },
  {
   "cell_type": "code",
   "execution_count": 7,
   "metadata": {},
   "outputs": [],
   "source": [
    "x_train = np.load(\"./Xtrain_Regression_Part1.npy\")\n",
    "y_train = np.load(\"./Ytrain_Regression_Part1.npy\")\n",
    "x_test = np.load(\"./Xtest_Regression_Part1.npy\")"
   ]
  },
  {
   "cell_type": "markdown",
   "metadata": {},
   "source": [
    "Then we train the model on the training datasets using the model we thought was best after testing several models"
   ]
  },
  {
   "cell_type": "code",
   "execution_count": 8,
   "metadata": {},
   "outputs": [
    {
     "name": "stdout",
     "output_type": "stream",
     "text": [
      "Lasso regression MSE score: 0.01683822295280103\n"
     ]
    }
   ],
   "source": [
    "lassoReg = linear_model.Lasso(alpha=0.002).fit(x_train,y_train)\n",
    "\n",
    "scoreslasso = cross_validate(lassoReg, x_train, y_train, cv=5, scoring = \"neg_mean_squared_error\", return_train_score=True)\n",
    "\n",
    "print(\n",
    "\"Lasso regression MSE score: \" + str(abs(np.average(scoreslasso[\"test_score\"])) ))"
   ]
  },
  {
   "cell_type": "markdown",
   "metadata": {},
   "source": [
    "Using the models trained, predict the outcome of the test dataset\n"
   ]
  },
  {
   "cell_type": "code",
   "execution_count": 9,
   "metadata": {},
   "outputs": [],
   "source": [
    "y_testLasso  = lassoReg.predict(x_test)"
   ]
  },
  {
   "cell_type": "markdown",
   "metadata": {},
   "source": [
    "Then we save the outcome on an array to be exported\n"
   ]
  },
  {
   "cell_type": "code",
   "execution_count": 10,
   "metadata": {},
   "outputs": [],
   "source": [
    "np.save(\"Ytest_Regression_Lasso_Part1\",y_testLasso)"
   ]
  }
 ],
 "metadata": {
  "interpreter": {
   "hash": "0dcffcc5991aaae913b971eb990c42be348b7b29ad9a105bba7cfdb2ff7d2bd2"
  },
  "kernelspec": {
   "display_name": "Python 3.8.11 64-bit ('iasd': conda)",
   "name": "python3"
  },
  "language_info": {
   "codemirror_mode": {
    "name": "ipython",
    "version": 3
   },
   "file_extension": ".py",
   "mimetype": "text/x-python",
   "name": "python",
   "nbconvert_exporter": "python",
   "pygments_lexer": "ipython3",
   "version": "3.8.11"
  },
  "orig_nbformat": 4
 },
 "nbformat": 4,
 "nbformat_minor": 2
}
