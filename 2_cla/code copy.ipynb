{
 "cells": [
  {
   "cell_type": "code",
   "execution_count": 73,
   "metadata": {},
   "outputs": [],
   "source": [
    "import numpy as np\n",
    "import matplotlib.pyplot as plt\n",
    "import tensorflow as tf\n",
    "from keras.models import Sequential,Input,Model\n",
    "from keras.layers import Dense, Dropout, Flatten\n",
    "from keras.layers import Conv2D, MaxPooling2D\n",
    "from keras.layers.normalization import BatchNormalization\n",
    "from keras.layers.advanced_activations import LeakyReLU\n",
    "from keras.utils import to_categorical\n",
    "from sklearn.model_selection import train_test_split\n",
    "import keras\n",
    "import time\n"
   ]
  },
  {
   "cell_type": "code",
   "execution_count": 74,
   "metadata": {},
   "outputs": [],
   "source": [
    "x_train = np.load(\"./Xtrain_Classification_Part1.npy\")\n",
    "y_train = np.load(\"./Ytrain_Classification_Part1.npy\")\n",
    "x_test = np.load(\"./Xtest_Classification_Part1.npy\")\n"
   ]
  },
  {
   "cell_type": "code",
   "execution_count": 75,
   "metadata": {},
   "outputs": [],
   "source": [
    "x_train_reshaped = x_train.reshape((x_train.shape[0],50,50))\n",
    "x_test_reshaped = x_test.reshape((x_test.shape[0],50,50))\n",
    "\n",
    "x_train_reshaped = x_train_reshaped.reshape(-1, 50,50, 1)\n",
    "x_test_reshaped = x_test_reshaped.reshape(-1, 50,50, 1)\n",
    "\n",
    "x_train_reshaped = x_train_reshaped.astype('float32')\n",
    "x_test_reshaped = x_test_reshaped.astype('float32')"
   ]
  },
  {
   "cell_type": "code",
   "execution_count": 76,
   "metadata": {},
   "outputs": [],
   "source": [
    "x_train_reshaped = x_train_reshaped/255\n",
    "x_test_reshaped = x_test_reshaped/255"
   ]
  },
  {
   "cell_type": "code",
   "execution_count": 77,
   "metadata": {},
   "outputs": [],
   "source": [
    "train_Y_one_hot = to_categorical(y_train)\n"
   ]
  },
  {
   "cell_type": "code",
   "execution_count": 78,
   "metadata": {},
   "outputs": [],
   "source": [
    "train_X,valid_X,train_label,valid_label = train_test_split(x_train_reshaped, train_Y_one_hot, test_size=0.2, random_state=13)\n"
   ]
  },
  {
   "cell_type": "code",
   "execution_count": 79,
   "metadata": {},
   "outputs": [
    {
     "data": {
      "text/plain": [
       "((5210, 50, 50, 1), (1303, 50, 50, 1), (5210, 2), (1303, 2))"
      ]
     },
     "execution_count": 79,
     "metadata": {},
     "output_type": "execute_result"
    }
   ],
   "source": [
    "train_X.shape,valid_X.shape,train_label.shape,valid_label.shape\n"
   ]
  },
  {
   "cell_type": "code",
   "execution_count": 80,
   "metadata": {},
   "outputs": [],
   "source": [
    "batch_size = 128\n",
    "epochs = 20\n",
    "num_classes = 2"
   ]
  },
  {
   "cell_type": "code",
   "execution_count": 81,
   "metadata": {},
   "outputs": [],
   "source": [
    "model = Sequential()\n",
    "model.add(Conv2D(32, kernel_size=(3, 3),activation='linear',padding='same',input_shape=(50,50,1)))\n",
    "model.add(LeakyReLU(alpha=0.1))\n",
    "model.add(MaxPooling2D((2, 2),padding='same'))\n",
    "model.add(Dropout(0.25))\n",
    "model.add(Conv2D(64, (3, 3), activation='linear',padding='same'))\n",
    "model.add(LeakyReLU(alpha=0.1))\n",
    "model.add(MaxPooling2D(pool_size=(2, 2),padding='same'))\n",
    "model.add(Dropout(0.25))\n",
    "model.add(Conv2D(128, (3, 3), activation='linear',padding='same'))\n",
    "model.add(LeakyReLU(alpha=0.1))                  \n",
    "model.add(MaxPooling2D(pool_size=(2, 2),padding='same'))\n",
    "model.add(Dropout(0.4))\n",
    "model.add(Flatten())\n",
    "model.add(Dense(128, activation='linear'))\n",
    "model.add(LeakyReLU(alpha=0.1))           \n",
    "model.add(Dropout(0.3))\n",
    "model.add(Dense(num_classes, activation='softmax'))"
   ]
  },
  {
   "cell_type": "code",
   "execution_count": 82,
   "metadata": {},
   "outputs": [],
   "source": [
    "model.compile(loss=keras.losses.categorical_crossentropy, optimizer=keras.optimizers.Adam(),metrics=['accuracy'])\n"
   ]
  },
  {
   "cell_type": "code",
   "execution_count": 83,
   "metadata": {},
   "outputs": [
    {
     "name": "stdout",
     "output_type": "stream",
     "text": [
      "Epoch 1/20\n",
      "41/41 [==============================] - 18s 433ms/step - loss: 0.6772 - accuracy: 0.5791 - val_loss: 0.6103 - val_accuracy: 0.6546\n",
      "Epoch 2/20\n",
      "41/41 [==============================] - 19s 463ms/step - loss: 0.6027 - accuracy: 0.6591 - val_loss: 0.5725 - val_accuracy: 0.6984\n",
      "Epoch 3/20\n",
      "41/41 [==============================] - 19s 457ms/step - loss: 0.5559 - accuracy: 0.7150 - val_loss: 0.5253 - val_accuracy: 0.7559\n",
      "Epoch 4/20\n",
      "41/41 [==============================] - 19s 451ms/step - loss: 0.5017 - accuracy: 0.7543 - val_loss: 0.4701 - val_accuracy: 0.7936\n",
      "Epoch 5/20\n",
      "41/41 [==============================] - 16s 398ms/step - loss: 0.4444 - accuracy: 0.7937 - val_loss: 0.4439 - val_accuracy: 0.7982\n",
      "Epoch 6/20\n",
      "41/41 [==============================] - 16s 399ms/step - loss: 0.4081 - accuracy: 0.8167 - val_loss: 0.3888 - val_accuracy: 0.8204\n",
      "Epoch 7/20\n",
      "41/41 [==============================] - 17s 415ms/step - loss: 0.3770 - accuracy: 0.8305 - val_loss: 0.3724 - val_accuracy: 0.8373\n",
      "Epoch 8/20\n",
      "41/41 [==============================] - 17s 427ms/step - loss: 0.3485 - accuracy: 0.8472 - val_loss: 0.3461 - val_accuracy: 0.8419\n",
      "Epoch 9/20\n",
      "41/41 [==============================] - 19s 453ms/step - loss: 0.3343 - accuracy: 0.8541 - val_loss: 0.3330 - val_accuracy: 0.8511\n",
      "Epoch 10/20\n",
      "41/41 [==============================] - 18s 447ms/step - loss: 0.3219 - accuracy: 0.8547 - val_loss: 0.3411 - val_accuracy: 0.8488\n",
      "Epoch 11/20\n",
      "41/41 [==============================] - 16s 395ms/step - loss: 0.3029 - accuracy: 0.8685 - val_loss: 0.3111 - val_accuracy: 0.8649\n",
      "Epoch 12/20\n",
      "41/41 [==============================] - 16s 395ms/step - loss: 0.2766 - accuracy: 0.8775 - val_loss: 0.3109 - val_accuracy: 0.8649\n",
      "Epoch 13/20\n",
      "41/41 [==============================] - 19s 452ms/step - loss: 0.2664 - accuracy: 0.8881 - val_loss: 0.3256 - val_accuracy: 0.8580\n",
      "Epoch 14/20\n",
      "41/41 [==============================] - 21s 510ms/step - loss: 0.2638 - accuracy: 0.8869 - val_loss: 0.3047 - val_accuracy: 0.8703\n",
      "Epoch 15/20\n",
      "41/41 [==============================] - 21s 505ms/step - loss: 0.2652 - accuracy: 0.8887 - val_loss: 0.3410 - val_accuracy: 0.8557\n",
      "Epoch 16/20\n",
      "41/41 [==============================] - 20s 500ms/step - loss: 0.2424 - accuracy: 0.9019 - val_loss: 0.3028 - val_accuracy: 0.8695\n",
      "Epoch 17/20\n",
      "41/41 [==============================] - 18s 450ms/step - loss: 0.2249 - accuracy: 0.9021 - val_loss: 0.3605 - val_accuracy: 0.8488\n",
      "Epoch 18/20\n",
      "41/41 [==============================] - 17s 413ms/step - loss: 0.2283 - accuracy: 0.9031 - val_loss: 0.2961 - val_accuracy: 0.8726\n",
      "Epoch 19/20\n",
      "41/41 [==============================] - 17s 414ms/step - loss: 0.1976 - accuracy: 0.9203 - val_loss: 0.3199 - val_accuracy: 0.8734\n",
      "Epoch 20/20\n",
      "41/41 [==============================] - 17s 415ms/step - loss: 0.2032 - accuracy: 0.9211 - val_loss: 0.3003 - val_accuracy: 0.8787\n"
     ]
    }
   ],
   "source": [
    "model_train = model.fit(train_X, train_label, batch_size=batch_size,epochs=epochs,verbose=1,validation_data=(valid_X, valid_label))\n"
   ]
  },
  {
   "cell_type": "code",
   "execution_count": 84,
   "metadata": {},
   "outputs": [],
   "source": [
    "y_test = model.predict(x_test_reshaped)"
   ]
  },
  {
   "cell_type": "code",
   "execution_count": 85,
   "metadata": {},
   "outputs": [
    {
     "data": {
      "text/plain": [
       "[<matplotlib.lines.Line2D at 0x224818b1550>]"
      ]
     },
     "execution_count": 85,
     "metadata": {},
     "output_type": "execute_result"
    },
    {
     "data": {
      "image/png": "[encoded data removed]",
      "text/plain": [
       "<Figure size 432x288 with 1 Axes>"
      ]
     },
     "metadata": {
      "needs_background": "light"
     },
     "output_type": "display_data"
    }
   ],
   "source": [
    "plt.plot(model_train.history[\"val_loss\"])"
   ]
  },
  {
   "cell_type": "code",
   "execution_count": 86,
   "metadata": {},
   "outputs": [],
   "source": [
    "#for i in range(y_test.shape[0]):\n",
    "#    if np.argmax(y_test[i])==0:\n",
    "#        print(\"male\")\n",
    "#    else:\n",
    "#        print(\"female\")\n",
    "#    plt.imshow(x_test_reshaped[i])#,cmap=\"Greys\"\n",
    "#    plt.show()\n",
    "#    time.sleep( 5 )"
   ]
  },
  {
   "cell_type": "markdown",
   "metadata": {},
   "source": [
    "submit vector of labels(1 or 0)\n",
    "search other options (classifiers) besides cnn and mlp (try svm, hyperparameters linear svm - C look at the weight vector (eye region and mouth weights will influence on the ethnicity and gender classification), nonlinear svm - C,gamma(rbf))\n"
   ]
  }
 ],
 "metadata": {
  "interpreter": {
   "hash": "7010eaac7a649698cb614f1498704cb43541e040c41288c254b1b379e133eb80"
  },
  "kernelspec": {
   "display_name": "Python 3.8.8 64-bit ('base': conda)",
   "name": "python3"
  },
  "language_info": {
   "codemirror_mode": {
    "name": "ipython",
    "version": 3
   },
   "file_extension": ".py",
   "mimetype": "text/x-python",
   "name": "python",
   "nbconvert_exporter": "python",
   "pygments_lexer": "ipython3",
   "version": "3.8.8"
  },
  "orig_nbformat": 4
 },
 "nbformat": 4,
 "nbformat_minor": 2
}
