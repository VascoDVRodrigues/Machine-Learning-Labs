{
 "cells": [
  {
   "cell_type": "code",
   "execution_count": 30,
   "metadata": {},
   "outputs": [],
   "source": [
    "import numpy as np\n",
    "import matplotlib.pyplot as plt\n",
    "import tensorflow as tf\n",
    "import time\n",
    "import keras\n",
    "from keras.models import Sequential,Input,Model\n",
    "from keras.layers import Dense, Dropout, Flatten\n",
    "from keras.layers import Conv2D, MaxPooling2D\n",
    "from keras.layers.normalization import BatchNormalization\n",
    "from keras.layers.advanced_activations import LeakyReLU"
   ]
  },
  {
   "cell_type": "code",
   "execution_count": 31,
   "metadata": {},
   "outputs": [],
   "source": [
    "x_train = np.load(\"./Xtrain_Classification_Part1.npy\")\n",
    "y_train = np.load(\"./Ytrain_Classification_Part1.npy\")\n",
    "x_test = np.load(\"./Xtest_Classification_Part1.npy\")\n"
   ]
  },
  {
   "cell_type": "code",
   "execution_count": 32,
   "metadata": {},
   "outputs": [],
   "source": [
    "x_train = x_train/255\n",
    "x_test = x_test/255"
   ]
  },
  {
   "cell_type": "code",
   "execution_count": 33,
   "metadata": {},
   "outputs": [],
   "source": [
    "x_train_reshaped = x_train.reshape((x_train.shape[0],50,50))\n",
    "x_test_reshaped = x_test.reshape((x_test.shape[0],50,50))"
   ]
  },
  {
   "cell_type": "code",
   "execution_count": 34,
   "metadata": {},
   "outputs": [],
   "source": [
    "##x_train_1,x_train_2 = x_train_reshaped[:6000],x_train_reshaped[6000:]\n",
    "##y_train_1,y_train_2 = y_train[:6000],y_train[6000:]\n"
   ]
  },
  {
   "cell_type": "code",
   "execution_count": 35,
   "metadata": {},
   "outputs": [],
   "source": [
    "n_classes = 2"
   ]
  },
  {
   "cell_type": "code",
   "execution_count": 36,
   "metadata": {},
   "outputs": [],
   "source": [
    "##print(\"Shape before one-hot encoding: \", y_train_1.shape)\n",
    "#y_train_1 = np_utils.to_categorical(y_train_1, n_classes)\n",
    "#y_train_2 = np_utils.to_categorical(y_train_2, n_classes)\n",
    "#print(\"Shape after one-hot encoding: \", y_train_1.shape)"
   ]
  },
  {
   "cell_type": "code",
   "execution_count": 37,
   "metadata": {},
   "outputs": [],
   "source": [
    "model = tf.keras.models.Sequential([\n",
    "  tf.keras.layers.Flatten(input_shape=(50, 50)),\n",
    "  tf.keras.layers.Dense(500, activation='relu'),\n",
    "  tf.keras.layers.Dropout(0.2),\n",
    "  tf.keras.layers.Dense(2, activation='softmax')\n",
    "])\n",
    "\n",
    "# compiling the sequential model\n",
    "model.compile(optimizer='adam',\n",
    "              loss='sparse_categorical_crossentropy',#sparse_categorical_crossentropy\n",
    "              metrics=['accuracy'])\n",
    "# training the model for 10 epochs\n"
   ]
  },
  {
   "cell_type": "code",
   "execution_count": 38,
   "metadata": {},
   "outputs": [
    {
     "name": "stdout",
     "output_type": "stream",
     "text": [
      "Epoch 1/20\n",
      "184/184 [==============================] - 5s 26ms/step - loss: 0.7163 - accuracy: 0.6533 - val_loss: 0.5937 - val_accuracy: 0.6825\n",
      "Epoch 2/20\n",
      "184/184 [==============================] - 4s 20ms/step - loss: 0.5482 - accuracy: 0.7197 - val_loss: 0.4919 - val_accuracy: 0.7745\n",
      "Epoch 3/20\n",
      "184/184 [==============================] - 4s 22ms/step - loss: 0.5188 - accuracy: 0.7391 - val_loss: 0.4528 - val_accuracy: 0.7991\n",
      "Epoch 4/20\n",
      "184/184 [==============================] - 4s 22ms/step - loss: 0.4603 - accuracy: 0.7816 - val_loss: 0.4320 - val_accuracy: 0.8021\n",
      "Epoch 5/20\n",
      "184/184 [==============================] - 4s 21ms/step - loss: 0.4835 - accuracy: 0.7654 - val_loss: 0.4282 - val_accuracy: 0.8129\n",
      "Epoch 6/20\n",
      "184/184 [==============================] - 4s 21ms/step - loss: 0.4511 - accuracy: 0.7867 - val_loss: 0.4283 - val_accuracy: 0.7991\n",
      "Epoch 7/20\n",
      "184/184 [==============================] - 4s 21ms/step - loss: 0.4470 - accuracy: 0.7884 - val_loss: 0.4505 - val_accuracy: 0.7807\n",
      "Epoch 8/20\n",
      "184/184 [==============================] - 4s 20ms/step - loss: 0.4140 - accuracy: 0.8157 - val_loss: 0.3754 - val_accuracy: 0.8298\n",
      "Epoch 9/20\n",
      "184/184 [==============================] - 4s 20ms/step - loss: 0.4088 - accuracy: 0.8142 - val_loss: 0.3789 - val_accuracy: 0.8206\n",
      "Epoch 10/20\n",
      "184/184 [==============================] - 4s 21ms/step - loss: 0.4070 - accuracy: 0.8101 - val_loss: 0.3788 - val_accuracy: 0.8252\n",
      "Epoch 11/20\n",
      "184/184 [==============================] - 4s 23ms/step - loss: 0.4129 - accuracy: 0.8120 - val_loss: 0.3790 - val_accuracy: 0.8405\n",
      "Epoch 12/20\n",
      "184/184 [==============================] - 4s 20ms/step - loss: 0.3964 - accuracy: 0.8215 - val_loss: 0.3859 - val_accuracy: 0.8267\n",
      "Epoch 13/20\n",
      "184/184 [==============================] - 4s 21ms/step - loss: 0.4074 - accuracy: 0.8166 - val_loss: 0.4045 - val_accuracy: 0.8129\n",
      "Epoch 14/20\n",
      "184/184 [==============================] - 4s 21ms/step - loss: 0.3938 - accuracy: 0.8215 - val_loss: 0.3865 - val_accuracy: 0.8328\n",
      "Epoch 15/20\n",
      "184/184 [==============================] - 4s 20ms/step - loss: 0.3959 - accuracy: 0.8212 - val_loss: 0.3981 - val_accuracy: 0.8344\n",
      "Epoch 16/20\n",
      "184/184 [==============================] - 4s 21ms/step - loss: 0.4071 - accuracy: 0.8135 - val_loss: 0.3592 - val_accuracy: 0.8374\n",
      "Epoch 17/20\n",
      "184/184 [==============================] - 4s 21ms/step - loss: 0.4100 - accuracy: 0.8144 - val_loss: 0.4114 - val_accuracy: 0.8098\n",
      "Epoch 18/20\n",
      "184/184 [==============================] - 4s 22ms/step - loss: 0.4343 - accuracy: 0.7937 - val_loss: 0.3597 - val_accuracy: 0.8328\n",
      "Epoch 19/20\n",
      "184/184 [==============================] - 4s 21ms/step - loss: 0.4093 - accuracy: 0.8106 - val_loss: 0.3530 - val_accuracy: 0.8390\n",
      "Epoch 20/20\n",
      "184/184 [==============================] - 4s 23ms/step - loss: 0.4014 - accuracy: 0.8140 - val_loss: 0.3610 - val_accuracy: 0.8466\n"
     ]
    }
   ],
   "source": [
    "history = model.fit(x_train_reshaped, y_train, epochs=20,  validation_split=0.1, shuffle=True)\n"
   ]
  },
  {
   "cell_type": "code",
   "execution_count": 42,
   "metadata": {},
   "outputs": [
    {
     "data": {
      "text/plain": [
       "[<matplotlib.lines.Line2D at 0x29452864970>]"
      ]
     },
     "execution_count": 42,
     "metadata": {},
     "output_type": "execute_result"
    },
    {
     "data": {
      "image/png": "[encoded data removed]",
      "text/plain": [
       "<Figure size 432x288 with 1 Axes>"
      ]
     },
     "metadata": {
      "needs_background": "light"
     },
     "output_type": "display_data"
    }
   ],
   "source": [
    "plt.plot(history.history[\"val_loss\"])"
   ]
  },
  {
   "cell_type": "code",
   "execution_count": 40,
   "metadata": {},
   "outputs": [],
   "source": [
    "#y_test = model.predict(x_test_reshaped)"
   ]
  },
  {
   "cell_type": "code",
   "execution_count": 41,
   "metadata": {},
   "outputs": [
    {
     "ename": "NameError",
     "evalue": "name 'y_test' is not defined",
     "output_type": "error",
     "traceback": [
      "\u001b[1;31m---------------------------------------------------------------------------\u001b[0m",
      "\u001b[1;31mNameError\u001b[0m                                 Traceback (most recent call last)",
      "\u001b[1;32m<ipython-input-41-7cd3c35ee0b7>\u001b[0m in \u001b[0;36m<module>\u001b[1;34m\u001b[0m\n\u001b[1;32m----> 1\u001b[1;33m \u001b[1;32mfor\u001b[0m \u001b[0mi\u001b[0m \u001b[1;32min\u001b[0m \u001b[0mrange\u001b[0m\u001b[1;33m(\u001b[0m\u001b[0my_test\u001b[0m\u001b[1;33m.\u001b[0m\u001b[0mshape\u001b[0m\u001b[1;33m[\u001b[0m\u001b[1;36m0\u001b[0m\u001b[1;33m]\u001b[0m\u001b[1;33m)\u001b[0m\u001b[1;33m:\u001b[0m\u001b[1;33m\u001b[0m\u001b[1;33m\u001b[0m\u001b[0m\n\u001b[0m\u001b[0;32m      2\u001b[0m     \u001b[1;32mif\u001b[0m \u001b[0mnp\u001b[0m\u001b[1;33m.\u001b[0m\u001b[0margmax\u001b[0m\u001b[1;33m(\u001b[0m\u001b[0my_test\u001b[0m\u001b[1;33m[\u001b[0m\u001b[0mi\u001b[0m\u001b[1;33m]\u001b[0m\u001b[1;33m)\u001b[0m\u001b[1;33m==\u001b[0m\u001b[1;36m0\u001b[0m\u001b[1;33m:\u001b[0m\u001b[1;33m\u001b[0m\u001b[1;33m\u001b[0m\u001b[0m\n\u001b[0;32m      3\u001b[0m         \u001b[0mprint\u001b[0m\u001b[1;33m(\u001b[0m\u001b[1;34m\"male\"\u001b[0m\u001b[1;33m)\u001b[0m\u001b[1;33m\u001b[0m\u001b[1;33m\u001b[0m\u001b[0m\n\u001b[0;32m      4\u001b[0m     \u001b[1;32melse\u001b[0m\u001b[1;33m:\u001b[0m\u001b[1;33m\u001b[0m\u001b[1;33m\u001b[0m\u001b[0m\n\u001b[0;32m      5\u001b[0m         \u001b[0mprint\u001b[0m\u001b[1;33m(\u001b[0m\u001b[1;34m\"female\"\u001b[0m\u001b[1;33m)\u001b[0m\u001b[1;33m\u001b[0m\u001b[1;33m\u001b[0m\u001b[0m\n",
      "\u001b[1;31mNameError\u001b[0m: name 'y_test' is not defined"
     ]
    }
   ],
   "source": [
    "for i in range(y_test.shape[0]):\n",
    "    if np.argmax(y_test[i])==0:\n",
    "        print(\"male\")\n",
    "    else:\n",
    "        print(\"female\")\n",
    "    plt.imshow(x_test_reshaped[i])#,cmap=\"Greys\"\n",
    "    plt.show()\n",
    "    time.sleep( 5 )"
   ]
  }
 ],
 "metadata": {
  "interpreter": {
   "hash": "7010eaac7a649698cb614f1498704cb43541e040c41288c254b1b379e133eb80"
  },
  "kernelspec": {
   "display_name": "Python 3.8.8 64-bit ('base': conda)",
   "name": "python3"
  },
  "language_info": {
   "codemirror_mode": {
    "name": "ipython",
    "version": 3
   },
   "file_extension": ".py",
   "mimetype": "text/x-python",
   "name": "python",
   "nbconvert_exporter": "python",
   "pygments_lexer": "ipython3",
   "version": "3.8.8"
  },
  "orig_nbformat": 4
 },
 "nbformat": 4,
 "nbformat_minor": 2
}
