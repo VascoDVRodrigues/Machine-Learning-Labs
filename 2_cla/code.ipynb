{
 "cells": [
  {
   "cell_type": "code",
   "execution_count": 30,
   "metadata": {},
   "outputs": [
    {
     "ename": "ImportError",
     "evalue": "cannot import name 'LayerNormalization' from 'tensorflow.python.keras.layers.normalization' (C:\\Users\\ruimi\\anaconda3\\lib\\site-packages\\tensorflow\\python\\keras\\layers\\normalization\\__init__.py)",
     "output_type": "error",
     "traceback": [
      "\u001b[1;31m---------------------------------------------------------------------------\u001b[0m",
      "\u001b[1;31mImportError\u001b[0m                               Traceback (most recent call last)",
      "\u001b[1;32m<ipython-input-7-be590b47ad93>\u001b[0m in \u001b[0;36m<module>\u001b[1;34m\u001b[0m\n\u001b[0;32m      2\u001b[0m \u001b[1;32mimport\u001b[0m \u001b[0mmatplotlib\u001b[0m\u001b[1;33m.\u001b[0m\u001b[0mpyplot\u001b[0m \u001b[1;32mas\u001b[0m \u001b[0mplt\u001b[0m\u001b[1;33m\u001b[0m\u001b[1;33m\u001b[0m\u001b[0m\n\u001b[0;32m      3\u001b[0m \u001b[1;32mfrom\u001b[0m \u001b[0msklearn\u001b[0m\u001b[1;33m.\u001b[0m\u001b[0mpreprocessing\u001b[0m \u001b[1;32mimport\u001b[0m \u001b[0mLabelBinarizer\u001b[0m\u001b[1;33m\u001b[0m\u001b[1;33m\u001b[0m\u001b[0m\n\u001b[1;32m----> 4\u001b[1;33m \u001b[1;32mimport\u001b[0m \u001b[0mtensorflow\u001b[0m \u001b[1;32mas\u001b[0m \u001b[0mtf\u001b[0m\u001b[1;33m\u001b[0m\u001b[1;33m\u001b[0m\u001b[0m\n\u001b[0m",
      "\u001b[1;32m~\\anaconda3\\lib\\site-packages\\tensorflow\\__init__.py\u001b[0m in \u001b[0;36m<module>\u001b[1;34m\u001b[0m\n\u001b[0;32m     39\u001b[0m \u001b[1;32mimport\u001b[0m \u001b[0msys\u001b[0m \u001b[1;32mas\u001b[0m \u001b[0m_sys\u001b[0m\u001b[1;33m\u001b[0m\u001b[1;33m\u001b[0m\u001b[0m\n\u001b[0;32m     40\u001b[0m \u001b[1;33m\u001b[0m\u001b[0m\n\u001b[1;32m---> 41\u001b[1;33m \u001b[1;32mfrom\u001b[0m \u001b[0mtensorflow\u001b[0m\u001b[1;33m.\u001b[0m\u001b[0mpython\u001b[0m\u001b[1;33m.\u001b[0m\u001b[0mtools\u001b[0m \u001b[1;32mimport\u001b[0m \u001b[0mmodule_util\u001b[0m \u001b[1;32mas\u001b[0m \u001b[0m_module_util\u001b[0m\u001b[1;33m\u001b[0m\u001b[1;33m\u001b[0m\u001b[0m\n\u001b[0m\u001b[0;32m     42\u001b[0m \u001b[1;32mfrom\u001b[0m \u001b[0mtensorflow\u001b[0m\u001b[1;33m.\u001b[0m\u001b[0mpython\u001b[0m\u001b[1;33m.\u001b[0m\u001b[0mutil\u001b[0m\u001b[1;33m.\u001b[0m\u001b[0mlazy_loader\u001b[0m \u001b[1;32mimport\u001b[0m \u001b[0mLazyLoader\u001b[0m \u001b[1;32mas\u001b[0m \u001b[0m_LazyLoader\u001b[0m\u001b[1;33m\u001b[0m\u001b[1;33m\u001b[0m\u001b[0m\n\u001b[0;32m     43\u001b[0m \u001b[1;33m\u001b[0m\u001b[0m\n",
      "\u001b[1;32m~\\anaconda3\\lib\\site-packages\\tensorflow\\python\\__init__.py\u001b[0m in \u001b[0;36m<module>\u001b[1;34m\u001b[0m\n\u001b[0;32m     45\u001b[0m \u001b[1;32mfrom\u001b[0m \u001b[0mtensorflow\u001b[0m\u001b[1;33m.\u001b[0m\u001b[0mpython\u001b[0m \u001b[1;32mimport\u001b[0m \u001b[0mdata\u001b[0m\u001b[1;33m\u001b[0m\u001b[1;33m\u001b[0m\u001b[0m\n\u001b[0;32m     46\u001b[0m \u001b[1;32mfrom\u001b[0m \u001b[0mtensorflow\u001b[0m\u001b[1;33m.\u001b[0m\u001b[0mpython\u001b[0m \u001b[1;32mimport\u001b[0m \u001b[0mdistribute\u001b[0m\u001b[1;33m\u001b[0m\u001b[1;33m\u001b[0m\u001b[0m\n\u001b[1;32m---> 47\u001b[1;33m \u001b[1;32mfrom\u001b[0m \u001b[0mtensorflow\u001b[0m\u001b[1;33m.\u001b[0m\u001b[0mpython\u001b[0m \u001b[1;32mimport\u001b[0m \u001b[0mkeras\u001b[0m\u001b[1;33m\u001b[0m\u001b[1;33m\u001b[0m\u001b[0m\n\u001b[0m\u001b[0;32m     48\u001b[0m \u001b[1;32mfrom\u001b[0m \u001b[0mtensorflow\u001b[0m\u001b[1;33m.\u001b[0m\u001b[0mpython\u001b[0m\u001b[1;33m.\u001b[0m\u001b[0mfeature_column\u001b[0m \u001b[1;32mimport\u001b[0m \u001b[0mfeature_column_lib\u001b[0m \u001b[1;32mas\u001b[0m \u001b[0mfeature_column\u001b[0m\u001b[1;33m\u001b[0m\u001b[1;33m\u001b[0m\u001b[0m\n\u001b[0;32m     49\u001b[0m \u001b[1;32mfrom\u001b[0m \u001b[0mtensorflow\u001b[0m\u001b[1;33m.\u001b[0m\u001b[0mpython\u001b[0m\u001b[1;33m.\u001b[0m\u001b[0mlayers\u001b[0m \u001b[1;32mimport\u001b[0m \u001b[0mlayers\u001b[0m\u001b[1;33m\u001b[0m\u001b[1;33m\u001b[0m\u001b[0m\n",
      "\u001b[1;32m~\\anaconda3\\lib\\site-packages\\tensorflow\\python\\keras\\__init__.py\u001b[0m in \u001b[0;36m<module>\u001b[1;34m\u001b[0m\n\u001b[0;32m     25\u001b[0m \u001b[1;33m\u001b[0m\u001b[0m\n\u001b[0;32m     26\u001b[0m \u001b[1;31m# See b/110718070#comment18 for more details about this import.\u001b[0m\u001b[1;33m\u001b[0m\u001b[1;33m\u001b[0m\u001b[1;33m\u001b[0m\u001b[0m\n\u001b[1;32m---> 27\u001b[1;33m \u001b[1;32mfrom\u001b[0m \u001b[0mtensorflow\u001b[0m\u001b[1;33m.\u001b[0m\u001b[0mpython\u001b[0m\u001b[1;33m.\u001b[0m\u001b[0mkeras\u001b[0m \u001b[1;32mimport\u001b[0m \u001b[0mmodels\u001b[0m\u001b[1;33m\u001b[0m\u001b[1;33m\u001b[0m\u001b[0m\n\u001b[0m\u001b[0;32m     28\u001b[0m \u001b[1;33m\u001b[0m\u001b[0m\n\u001b[0;32m     29\u001b[0m \u001b[1;32mfrom\u001b[0m \u001b[0mtensorflow\u001b[0m\u001b[1;33m.\u001b[0m\u001b[0mpython\u001b[0m\u001b[1;33m.\u001b[0m\u001b[0mkeras\u001b[0m\u001b[1;33m.\u001b[0m\u001b[0mengine\u001b[0m\u001b[1;33m.\u001b[0m\u001b[0minput_layer\u001b[0m \u001b[1;32mimport\u001b[0m \u001b[0mInput\u001b[0m\u001b[1;33m\u001b[0m\u001b[1;33m\u001b[0m\u001b[0m\n",
      "\u001b[1;32m~\\anaconda3\\lib\\site-packages\\tensorflow\\python\\keras\\models.py\u001b[0m in \u001b[0;36m<module>\u001b[1;34m\u001b[0m\n\u001b[0;32m     25\u001b[0m \u001b[1;32mfrom\u001b[0m \u001b[0mtensorflow\u001b[0m\u001b[1;33m.\u001b[0m\u001b[0mpython\u001b[0m\u001b[1;33m.\u001b[0m\u001b[0mkeras\u001b[0m \u001b[1;32mimport\u001b[0m \u001b[0moptimizers\u001b[0m\u001b[1;33m\u001b[0m\u001b[1;33m\u001b[0m\u001b[0m\n\u001b[0;32m     26\u001b[0m \u001b[1;32mfrom\u001b[0m \u001b[0mtensorflow\u001b[0m\u001b[1;33m.\u001b[0m\u001b[0mpython\u001b[0m\u001b[1;33m.\u001b[0m\u001b[0mkeras\u001b[0m\u001b[1;33m.\u001b[0m\u001b[0mengine\u001b[0m \u001b[1;32mimport\u001b[0m \u001b[0mfunctional\u001b[0m\u001b[1;33m\u001b[0m\u001b[1;33m\u001b[0m\u001b[0m\n\u001b[1;32m---> 27\u001b[1;33m \u001b[1;32mfrom\u001b[0m \u001b[0mtensorflow\u001b[0m\u001b[1;33m.\u001b[0m\u001b[0mpython\u001b[0m\u001b[1;33m.\u001b[0m\u001b[0mkeras\u001b[0m\u001b[1;33m.\u001b[0m\u001b[0mengine\u001b[0m \u001b[1;32mimport\u001b[0m \u001b[0msequential\u001b[0m\u001b[1;33m\u001b[0m\u001b[1;33m\u001b[0m\u001b[0m\n\u001b[0m\u001b[0;32m     28\u001b[0m \u001b[1;32mfrom\u001b[0m \u001b[0mtensorflow\u001b[0m\u001b[1;33m.\u001b[0m\u001b[0mpython\u001b[0m\u001b[1;33m.\u001b[0m\u001b[0mkeras\u001b[0m\u001b[1;33m.\u001b[0m\u001b[0mengine\u001b[0m \u001b[1;32mimport\u001b[0m \u001b[0mtraining\u001b[0m\u001b[1;33m\u001b[0m\u001b[1;33m\u001b[0m\u001b[0m\n\u001b[0;32m     29\u001b[0m \u001b[1;32mfrom\u001b[0m \u001b[0mtensorflow\u001b[0m\u001b[1;33m.\u001b[0m\u001b[0mpython\u001b[0m\u001b[1;33m.\u001b[0m\u001b[0mkeras\u001b[0m\u001b[1;33m.\u001b[0m\u001b[0mengine\u001b[0m \u001b[1;32mimport\u001b[0m \u001b[0mtraining_v1\u001b[0m\u001b[1;33m\u001b[0m\u001b[1;33m\u001b[0m\u001b[0m\n",
      "\u001b[1;32m~\\anaconda3\\lib\\site-packages\\tensorflow\\python\\keras\\engine\\sequential.py\u001b[0m in \u001b[0;36m<module>\u001b[1;34m\u001b[0m\n\u001b[0;32m     25\u001b[0m \u001b[1;32mfrom\u001b[0m \u001b[0mtensorflow\u001b[0m\u001b[1;33m.\u001b[0m\u001b[0mpython\u001b[0m\u001b[1;33m.\u001b[0m\u001b[0mframework\u001b[0m \u001b[1;32mimport\u001b[0m \u001b[0mops\u001b[0m\u001b[1;33m\u001b[0m\u001b[1;33m\u001b[0m\u001b[0m\n\u001b[0;32m     26\u001b[0m \u001b[1;32mfrom\u001b[0m \u001b[0mtensorflow\u001b[0m\u001b[1;33m.\u001b[0m\u001b[0mpython\u001b[0m\u001b[1;33m.\u001b[0m\u001b[0mframework\u001b[0m \u001b[1;32mimport\u001b[0m \u001b[0mtensor_util\u001b[0m\u001b[1;33m\u001b[0m\u001b[1;33m\u001b[0m\u001b[0m\n\u001b[1;32m---> 27\u001b[1;33m \u001b[1;32mfrom\u001b[0m \u001b[0mtensorflow\u001b[0m\u001b[1;33m.\u001b[0m\u001b[0mpython\u001b[0m\u001b[1;33m.\u001b[0m\u001b[0mkeras\u001b[0m \u001b[1;32mimport\u001b[0m \u001b[0mlayers\u001b[0m \u001b[1;32mas\u001b[0m \u001b[0mlayer_module\u001b[0m\u001b[1;33m\u001b[0m\u001b[1;33m\u001b[0m\u001b[0m\n\u001b[0m\u001b[0;32m     28\u001b[0m \u001b[1;32mfrom\u001b[0m \u001b[0mtensorflow\u001b[0m\u001b[1;33m.\u001b[0m\u001b[0mpython\u001b[0m\u001b[1;33m.\u001b[0m\u001b[0mkeras\u001b[0m\u001b[1;33m.\u001b[0m\u001b[0mengine\u001b[0m \u001b[1;32mimport\u001b[0m \u001b[0mbase_layer\u001b[0m\u001b[1;33m\u001b[0m\u001b[1;33m\u001b[0m\u001b[0m\n\u001b[0;32m     29\u001b[0m \u001b[1;32mfrom\u001b[0m \u001b[0mtensorflow\u001b[0m\u001b[1;33m.\u001b[0m\u001b[0mpython\u001b[0m\u001b[1;33m.\u001b[0m\u001b[0mkeras\u001b[0m\u001b[1;33m.\u001b[0m\u001b[0mengine\u001b[0m \u001b[1;32mimport\u001b[0m \u001b[0mfunctional\u001b[0m\u001b[1;33m\u001b[0m\u001b[1;33m\u001b[0m\u001b[0m\n",
      "\u001b[1;32m~\\anaconda3\\lib\\site-packages\\tensorflow\\python\\keras\\layers\\__init__.py\u001b[0m in \u001b[0;36m<module>\u001b[1;34m\u001b[0m\n\u001b[0;32m    172\u001b[0m \u001b[1;33m\u001b[0m\u001b[0m\n\u001b[0;32m    173\u001b[0m \u001b[1;31m# Normalization layers.\u001b[0m\u001b[1;33m\u001b[0m\u001b[1;33m\u001b[0m\u001b[1;33m\u001b[0m\u001b[0m\n\u001b[1;32m--> 174\u001b[1;33m \u001b[1;32mfrom\u001b[0m \u001b[0mtensorflow\u001b[0m\u001b[1;33m.\u001b[0m\u001b[0mpython\u001b[0m\u001b[1;33m.\u001b[0m\u001b[0mkeras\u001b[0m\u001b[1;33m.\u001b[0m\u001b[0mlayers\u001b[0m\u001b[1;33m.\u001b[0m\u001b[0mnormalization\u001b[0m \u001b[1;32mimport\u001b[0m \u001b[0mLayerNormalization\u001b[0m\u001b[1;33m\u001b[0m\u001b[1;33m\u001b[0m\u001b[0m\n\u001b[0m\u001b[0;32m    175\u001b[0m \u001b[1;32mfrom\u001b[0m \u001b[0mtensorflow\u001b[0m\u001b[1;33m.\u001b[0m\u001b[0mpython\u001b[0m\u001b[1;33m.\u001b[0m\u001b[0mkeras\u001b[0m\u001b[1;33m.\u001b[0m\u001b[0mlayers\u001b[0m\u001b[1;33m.\u001b[0m\u001b[0mnormalization_v2\u001b[0m \u001b[1;32mimport\u001b[0m \u001b[0mSyncBatchNormalization\u001b[0m\u001b[1;33m\u001b[0m\u001b[1;33m\u001b[0m\u001b[0m\n\u001b[0;32m    176\u001b[0m \u001b[1;33m\u001b[0m\u001b[0m\n",
      "\u001b[1;31mImportError\u001b[0m: cannot import name 'LayerNormalization' from 'tensorflow.python.keras.layers.normalization' (C:\\Users\\ruimi\\anaconda3\\lib\\site-packages\\tensorflow\\python\\keras\\layers\\normalization\\__init__.py)"
     ]
    }
   ],
   "source": [
    "import numpy as np\n",
    "import matplotlib.pyplot as plt\n",
<<<<<<< HEAD
    "import tensorflow as tf\n",
    "import time\n",
    "import keras\n",
    "from keras.models import Sequential,Input,Model\n",
    "from keras.layers import Dense, Dropout, Flatten\n",
    "from keras.layers import Conv2D, MaxPooling2D\n",
    "from keras.layers.normalization import BatchNormalization\n",
    "from keras.layers.advanced_activations import LeakyReLU"
=======
    "from sklearn.preprocessing import LabelBinarizer\n",
    "import tensorflow as tf"
>>>>>>> 68f15bcdb3e22d074447a5f0ca1ccef52070c521
   ]
  },
  {
   "cell_type": "code",
<<<<<<< HEAD
   "execution_count": 31,
=======
   "execution_count": null,
>>>>>>> 68f15bcdb3e22d074447a5f0ca1ccef52070c521
   "metadata": {},
   "outputs": [],
   "source": [
    "x_train = np.load(\"./Xtrain_Classification_Part1.npy\")\n",
    "y_train = np.load(\"./Ytrain_Classification_Part1.npy\")\n",
    "x_test = np.load(\"./Xtest_Classification_Part1.npy\")"
   ]
  },
  {
   "cell_type": "code",
<<<<<<< HEAD
   "execution_count": 32,
   "metadata": {},
   "outputs": [],
   "source": [
    "x_train = x_train/255\n",
    "x_test = x_test/255"
   ]
  },
  {
   "cell_type": "code",
   "execution_count": 33,
   "metadata": {},
   "outputs": [],
   "source": [
    "x_train_reshaped = x_train.reshape((x_train.shape[0],50,50))\n",
    "x_test_reshaped = x_test.reshape((x_test.shape[0],50,50))"
   ]
  },
  {
   "cell_type": "code",
   "execution_count": 34,
   "metadata": {},
   "outputs": [],
   "source": [
    "##x_train_1,x_train_2 = x_train_reshaped[:6000],x_train_reshaped[6000:]\n",
    "##y_train_1,y_train_2 = y_train[:6000],y_train[6000:]\n"
   ]
  },
  {
   "cell_type": "code",
   "execution_count": 35,
   "metadata": {},
   "outputs": [],
   "source": [
    "n_classes = 2"
   ]
  },
  {
   "cell_type": "code",
   "execution_count": 36,
   "metadata": {},
   "outputs": [],
=======
   "execution_count": null,
   "metadata": {},
   "outputs": [],
>>>>>>> 68f15bcdb3e22d074447a5f0ca1ccef52070c521
   "source": [
    "##print(\"Shape before one-hot encoding: \", y_train_1.shape)\n",
    "#y_train_1 = np_utils.to_categorical(y_train_1, n_classes)\n",
    "#y_train_2 = np_utils.to_categorical(y_train_2, n_classes)\n",
    "#print(\"Shape after one-hot encoding: \", y_train_1.shape)"
   ]
  },
  {
   "cell_type": "code",
<<<<<<< HEAD
   "execution_count": 37,
=======
   "execution_count": null,
>>>>>>> 68f15bcdb3e22d074447a5f0ca1ccef52070c521
   "metadata": {},
   "outputs": [],
   "source": [
    "model = tf.keras.models.Sequential([\n",
    "  tf.keras.layers.Flatten(input_shape=(50, 50)),\n",
    "  tf.keras.layers.Dense(500, activation='relu'),\n",
    "  tf.keras.layers.Dropout(0.2),\n",
    "  tf.keras.layers.Dense(2, activation='softmax')\n",
    "])\n",
    "\n",
    "# compiling the sequential model\n",
    "model.compile(optimizer='adam',\n",
    "              loss='sparse_categorical_crossentropy',#sparse_categorical_crossentropy\n",
    "              metrics=['accuracy'])\n",
    "# training the model for 10 epochs\n"
   ]
  },
  {
   "cell_type": "code",
<<<<<<< HEAD
   "execution_count": 38,
   "metadata": {},
   "outputs": [
    {
     "name": "stdout",
     "output_type": "stream",
     "text": [
      "Epoch 1/20\n",
      "184/184 [==============================] - 5s 26ms/step - loss: 0.7163 - accuracy: 0.6533 - val_loss: 0.5937 - val_accuracy: 0.6825\n",
      "Epoch 2/20\n",
      "184/184 [==============================] - 4s 20ms/step - loss: 0.5482 - accuracy: 0.7197 - val_loss: 0.4919 - val_accuracy: 0.7745\n",
      "Epoch 3/20\n",
      "184/184 [==============================] - 4s 22ms/step - loss: 0.5188 - accuracy: 0.7391 - val_loss: 0.4528 - val_accuracy: 0.7991\n",
      "Epoch 4/20\n",
      "184/184 [==============================] - 4s 22ms/step - loss: 0.4603 - accuracy: 0.7816 - val_loss: 0.4320 - val_accuracy: 0.8021\n",
      "Epoch 5/20\n",
      "184/184 [==============================] - 4s 21ms/step - loss: 0.4835 - accuracy: 0.7654 - val_loss: 0.4282 - val_accuracy: 0.8129\n",
      "Epoch 6/20\n",
      "184/184 [==============================] - 4s 21ms/step - loss: 0.4511 - accuracy: 0.7867 - val_loss: 0.4283 - val_accuracy: 0.7991\n",
      "Epoch 7/20\n",
      "184/184 [==============================] - 4s 21ms/step - loss: 0.4470 - accuracy: 0.7884 - val_loss: 0.4505 - val_accuracy: 0.7807\n",
      "Epoch 8/20\n",
      "184/184 [==============================] - 4s 20ms/step - loss: 0.4140 - accuracy: 0.8157 - val_loss: 0.3754 - val_accuracy: 0.8298\n",
      "Epoch 9/20\n",
      "184/184 [==============================] - 4s 20ms/step - loss: 0.4088 - accuracy: 0.8142 - val_loss: 0.3789 - val_accuracy: 0.8206\n",
      "Epoch 10/20\n",
      "184/184 [==============================] - 4s 21ms/step - loss: 0.4070 - accuracy: 0.8101 - val_loss: 0.3788 - val_accuracy: 0.8252\n",
      "Epoch 11/20\n",
      "184/184 [==============================] - 4s 23ms/step - loss: 0.4129 - accuracy: 0.8120 - val_loss: 0.3790 - val_accuracy: 0.8405\n",
      "Epoch 12/20\n",
      "184/184 [==============================] - 4s 20ms/step - loss: 0.3964 - accuracy: 0.8215 - val_loss: 0.3859 - val_accuracy: 0.8267\n",
      "Epoch 13/20\n",
      "184/184 [==============================] - 4s 21ms/step - loss: 0.4074 - accuracy: 0.8166 - val_loss: 0.4045 - val_accuracy: 0.8129\n",
      "Epoch 14/20\n",
      "184/184 [==============================] - 4s 21ms/step - loss: 0.3938 - accuracy: 0.8215 - val_loss: 0.3865 - val_accuracy: 0.8328\n",
      "Epoch 15/20\n",
      "184/184 [==============================] - 4s 20ms/step - loss: 0.3959 - accuracy: 0.8212 - val_loss: 0.3981 - val_accuracy: 0.8344\n",
      "Epoch 16/20\n",
      "184/184 [==============================] - 4s 21ms/step - loss: 0.4071 - accuracy: 0.8135 - val_loss: 0.3592 - val_accuracy: 0.8374\n",
      "Epoch 17/20\n",
      "184/184 [==============================] - 4s 21ms/step - loss: 0.4100 - accuracy: 0.8144 - val_loss: 0.4114 - val_accuracy: 0.8098\n",
      "Epoch 18/20\n",
      "184/184 [==============================] - 4s 22ms/step - loss: 0.4343 - accuracy: 0.7937 - val_loss: 0.3597 - val_accuracy: 0.8328\n",
      "Epoch 19/20\n",
      "184/184 [==============================] - 4s 21ms/step - loss: 0.4093 - accuracy: 0.8106 - val_loss: 0.3530 - val_accuracy: 0.8390\n",
      "Epoch 20/20\n",
      "184/184 [==============================] - 4s 23ms/step - loss: 0.4014 - accuracy: 0.8140 - val_loss: 0.3610 - val_accuracy: 0.8466\n"
     ]
    }
   ],
   "source": [
    "history = model.fit(x_train_reshaped, y_train, epochs=20,  validation_split=0.1, shuffle=True)\n"
   ]
  },
  {
   "cell_type": "code",
   "execution_count": 42,
=======
   "execution_count": null,
>>>>>>> 68f15bcdb3e22d074447a5f0ca1ccef52070c521
   "metadata": {},
   "outputs": [
    {
     "data": {
<<<<<<< HEAD
      "text/plain": [
       "[<matplotlib.lines.Line2D at 0x29452864970>]"
      ]
     },
     "execution_count": 42,
     "metadata": {},
     "output_type": "execute_result"
    },
    {
     "data": {
      "image/png": "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",
=======
      "image/png": "iVBORw0KGgoAAAANSUhEUgAAAPsAAAD6CAYAAABnLjEDAAAAOXRFWHRTb2Z0d2FyZQBNYXRwbG90bGliIHZlcnNpb24zLjMuNCwgaHR0cHM6Ly9tYXRwbG90bGliLm9yZy8QVMy6AAAACXBIWXMAAAsTAAALEwEAmpwYAAAsMklEQVR4nO2daYxk13Xf/6f26r17dg03SSFlC6JIJbTkRElgSyKiKIIkJDFiBRaYWIC+JIAcO7GoBAjgLwGBBLY/JPlAxIIZ2LEhwAJEEA4UhrYgGBAkjdaQpihKIsUZztLT013dXft282GKM3X+53RXzVbTw3d+wGD6vrr3vfPue7denfPOIiklBEHw5id3uwUIgmA2xGIPgowQiz0IMkIs9iDICLHYgyAjxGIPgoxwQ4tdRD4sIi+JyI9F5PGbJVQQBDcfud737CKSB/AjAI8COAPgWwA+mVL6673GFJerqXJs+Uq7lO+bPnnR8vST/j7Kwcqbl6HuI7aP0Dg+jo/uw8cu0HHtCCBBdNs5rOlD7SG1L++Hx0zeL8PzBsCM4PnvDfNmDMvHc+3JMWT5k9NnwtzxPgBgONTypj7JNrBjCk3dzrfovhzaeTITntfHHRbtPA0q+tiF1a7pc7y0o3frXKP9RDl/po/apnOSAAoT97Q37wXw45TSTwFARP4UwMcB7LnYK8eW8Z7//qkr7XsWN02fpUJHtTe7c6o9X7ATtFRoqXY5Z79EeNtivr2XmFfI0UTP5fSxD+XrZkwv6Ys8oB9P/DkAtIdF6qMvSzvZy9Qb6m0dp88g7f/DbZnvcgB5uos3eguqfbG7aMY0+iXVLuQGqt0dWtmaNKY/tLJ2BnSOfd1u9ex+dxsV1e7VdLu4aef/yHf1dV5+YUu1ZdfOE38BpGU9T50Tdp4231FW7WP/9Gemz2/e839UeyXvHJtFGbvOv/6x1/fsdyM/408COD3WPjPaFgTBAeRGFrv3U8H8mhSRz4jIKRE51due/C0VBMGt4UZ+xp8BcPdY+y4AZ7lTSulJAE8CwPwDJ1JnYH9GjcM/nfknoUeHfgZ7P+MnHacivYlj8tBjBs73He+3CC3/fE6rKQCwnpb0fkkXHTo/x/lnu/eTnXVaVinqA/0TFwCKouVltYN1eMDaSFjernPNeRv/ZPf6dOlnPLcBILE6kNeyDarWutFZJj2/pPcrOee51qef8TSmt2jPefsdesyvH3ve9OGf7RWZfP9jrI9n07r62fXzLQD3i8hbRaQE4FcBPH0D+wuC4BZy3U/2lFJfRP41gK8AyAP4QkrphZsmWRAEN5Ub+RmPlNKfA/jzmyRLEAS3kPCgC4KMcENP9msmAf0xo0vfcdBg41qRDF6egQj0Htd7l82GMu7D75cvH1vLwg4O/D788n50n2bSxsPaQPsNANbA2Bzqd9D8Hv7yGH1sby7ZWNinc25Av/cFgGpe+xLs9LURzzOksYFunnwlvGvWHpDhzHnPzga4Nr1X73atLEP2JymwIc0epz+ntw3m9fznavs7JwFAyus+9RP2etz1c+dV+6Gqfc++Qr4cfF9Oejp79/G0Y4MgeJMQiz0IMkIs9iDICDPV2UUSSoWrenDZCYRhp46VonYy2OzNmzGsEzYGVhdlvZL93AfiOMjQdyE7rrCsANAmHZ31bU+nWiZHCm7vDq3zy3Zf6/4tWL2enWj40I2B1k0BR88nW4AXlDNPej471VTz1mGpX6DAESeoxTrr6M+HQzum393faSvl7Pyzb1G/qvdRKNt5Qomu81F9PWrvsgEs/+wt2onmpBNbsWwceCbbC/JjffLOffwG8WQPgowQiz0IMkIs9iDICDPW2YFSfn+nfdbTCjmt+5ScIJfdntVpmQLp14P85O85DlrxdHQmB46B1/vIi42j5yAcDrApDuxxK+QDsCnWlsHv662skxN4cCBSwUnkYN6rk57fd2wDJdrvQtEGCHFCi16RcgM4ATZCgS/okg7rqLQDMnf0FvWyKM1ZG1D9bTp+fesBLcv9P/eaGfOhBe1NbvVzoCJ6P2w38hjX03P76PjxZA+CjBCLPQgyQiz2IMgIsdiDICPM1EBXyg1wcn77Sttz0GDY2cLLCsv7abHFBdbxo06ON5WcdfzoUqALG+g4UAYAKiQfG9tKjpFvMacTZrJjjhdwww4za4WG6ZMfsLFw8nf7Vt8G6kxilRJXsmGw1quaMTYp5f7OMIA27gJAuWDnspOnbEKOEw3DdszePGX4WbAGxs6Snsv8+3SSyn9z77NmzL0FfY+xMQ4AihMMdPsZ4ID9XXDiyR4EGSEWexBkhFjsQZARZpu8AkkFWniJEDipBCdp8CqSMNM4i0xTvIFhHd3TvznwhQNL2OkGsE41bBuYVOzh8j5s8Qxme6B1Z89JaCG/v4NM0cn2y/aCuaT34ensHCxTdwJhivn9nZgKzufFIiUpyen7x62cwxloSySLM/190us/9Te+qdoPlS6ZMfkpnq0DKnvjJba9XuLJHgQZIRZ7EGSEWOxBkBFisQdBRpixgU6UYcbLYNLoa2cXdpBhgx1gywSx8wXglHtynGgYzhTLzi1e1hne75x09v0ccEou0Tl6hkBTIsr53vacfsYpO7LwNs4u60cqUhXU3OSqunwdvWvGRrwGeb94GWnZqFco0dx2rCGW7Z/OLWZlo91Yh6vJlrV2sufM99wQbOC15zwe9bafaTqe7EGQEWKxB0FGiMUeBBlhpjr7IAnqvTGd3MarmIyzHDCx27dZQ9qk1/s6OzlOkKLmZXV5pXNEtTkj7WLeZp1hPZmdd7zjrHd1yeZXGodUe5rMqw8srJs+ywWtO7O+7TnV8DZ2svEwJaVpHywrAHRJMb7YWjB9Xt9cVu3OpnbOyTWdMtVzVPJ7iZyNOJMNMPmRZ/2gwLFJXGq5mZwKQ1M4e3HC3AHp9azTAzo4JkVFmCAIYrEHQUaIxR4EGWHG79k1XsKCel/rtGXS2Vk/B/z3rcxmVydlWB8uqnata4M1Nlt6TLev5a2W7Htqthes72hdtHVGHxcAKhtaflbR+wtOFZOjWhfdvdtm2H3H8gXVPl7aMX0Ytg/MUdIPLxCmzQosqZXsOwEAZxtaH3/l7GHTp3BWj6vuatnK2zCUa7q9c6++hmnV6rw832xiGFTtfdo6ojsdL2hh2o6dZTCFzj6paqtbpXVs09CxFey1ryAI3qTEYg+CjBCLPQgywsTFLiJfEJF1EXl+bNuaiDwrIi+P/l+9tWIGQXCjTGOg+0MA/xXA/xzb9jiA51JKT4jI46P256Y54HjQhOcsskOGsqWSdgxp9a2Bjp1Fah1rbKt3tbFnp63b7bbdb79D00PybnWcoIQ6BeXUdJ95x0eFbY7dI9qIlNZsFpq5Bcoo42Sz2aUgFjbQedl5tgf7Z5f1suac72hj2yqV2fYcoS42dLmq1HJKOZH9k3yEMHScsigmB0e+T05OFeeeu5cNpPp+6i04WYzuYYclfeCmE01TZOE8JtjwJmVh6t9I+aeU0tcAbNLmjwN4avT3UwA+MWk/QRDcXq5XZz+WUjoHAKP/j+7VUUQ+IyKnRORUt9baq1sQBLeYW26gSyk9mVJ6JKX0SGnF/rwOgmA2XK9TzQUROZFSOiciJwDYKAyHvCTMjVXFaDvZZdnRhnV4j3JB62W1th3T6etjNRtanx3UnakYkP5TIZ2r6Di7rGhZWiv6cylM1ts44UK1anV2zqzqlS/e7upzvFTUerKXSIODe1ivbzrll1sU3JPr63k5W9c6PQDs7JJtwHnsdA9T1Zi36LmTpj3n3rzeNndBX8PKplNy+iwlKVnQY+on7HHuP7H/Lb+TrJ1iCp+aG6a/z/P7ep/sTwN4bPT3YwC+fJ37CYJgRkzz6u1PAHwdwDtE5IyIfBrAEwAeFZGXATw6agdBcICZ+DM+pfTJPT764E2WJQiCW8hMA2EESSUf5ESFAHRyC9j36otFmzCCEyG0+/a0mh29H44XWDm+a8bkcvvr156ezFVmW3TcXtd5/1qiSjPUXp2zbzHmilqP9xJEcFIJ1r+9hJNcUXZ3qO0fnIzD49Sle1T79JlDpo/Rt8tOpZzDWpZjy/oaiXPOl+7WtoBLZ3Xg0coLdv5LO3o/HJ9Vv9se5+GVM6rNlXebA0dnvw6mqQY0Tn+fykbhLhsEGSEWexBkhFjsQZARYrEHQUaYqYEuJ0lVgSlMYXzgCh8LRRtJ8npDG5E6PXta+bw2AN19dEu1KwVrrHp9WzuD1C/orDOFmjWGFBvaIYN32ztuDVFyUhvk5sva+JZ3DIUF2nbXXM304aw/Gx0t/2pRZ7UFgMWyNopxtlmu0AMAL9aOqfarP9Ftz5kkd0hfx7k5e13LBX3sSw1tfCsVbKUZnrv2mjbodtZsFlu2E7cP6WvYP2Zl48y9zaE2yHUdQxlX7ZnG+MYGUS94bBwvIOoN4skeBBkhFnsQZIRY7EGQEWaqs+dliJWxxAae/sc6Oeso7LQC2CoyJ5dt2tESZUXdaOmgkJd+dNLKu0vZZLcpqOKSlSXf1ts6a5St9V6b4XVIZUBqda2bHjtqgy7umdcpBkxVFgDHytoJ5Vxb2yAudm2mW656w3olJ8QAgPM10v0p2Gf1qHVYara1PaHxqg2Wafbo2pM/VXPecSSiijBS0de9f8xmxwXp14Oq3u/Sqk7GAVhbBjvVePo4OzVN46DEY7yEI+NVf8OpJgiCWOxBkBVisQdBRph5RZhxHdzTWRZJZ2e9vuAEzxyu1FWbg2kAYLNNCQ7p85P3bZgxS2WtJHLlmbM79j11nZJUJhpzz6KWFQCaPX2OO02tFzf6NmHEoWJDj3F06Uns9OyY9ZzW4znAxrOzcFCRFPU1Khft+/AuBSvl1+29UL2od8xqcOuIHVN8TW/rLuvjdJ2KMP35/Y/z9jV7byyQAYETTu6T93HsQHbTJD3es80MpzpYPNmDIDPEYg+CjBCLPQgyQiz2IMgIMzXQ9YZ515FjnJOVmmqzQajWsxVLNto6uKHjZK3lYJLj89q5hY8LQGXVAYCFvDYe9g47Dg7k1MCOLJc62lAI2Iw3Rxa18e1QRbcBYKuv5yHPBiJYhyTTdgw7JpuN6DloOxV5CuREM7eq5W137Rh2fKr/fZuN59x5qiq2TdmGqtbwh9O6z9x5bQUblJ1SyuREU75bG1F/+dCPzJhDed1nAJ5r+xwdiN5WTFb+HpW/5uuazzkZjceO7WV/uvLZnp8EQfCmIhZ7EGSEWOxBkBFuq1ONpzOyTt4j3aeQs4EMa2UdqMC6NgB0KAPtfEHr3152VtZf65QxlHV4wJ7TNA4P7LyzRBl0xxN+vAFn1F0s2Ky7fM58js2eddbZgLZ/rFAVXW/+BwN9jVpUNaZS8uTXc7tYcsrbHtcJRjbntb2jy1V2AbTewvPNfex1TiW97f13v6La95YumjF50o058GUojs5OfQZi741S0vPLTjZeIMz4fvP7lJ2JJ3sQZIRY7EGQEWKxB0FGmKnOPkg5bDvBF+OwfnqkpN9nsq4EAFs5refXeraKq1cxdhIsi6cvMTt9fez5vE4GcdgJhGFdmt+Hsw4MAA1nG8P+Bqwn7zoBQ9yH541tBYANhOm29LtuT2fnqj07bStLkZKEVimZJCf9AIBunqoDHdE6cKo6CT+pai7bfEriJLwg8sK6tj1OkcT1Elywrs99iuL4FowR79mDIIjFHgRZIRZ7EGSEWOxBkBFmaqAbQtAeC2xZK9sAj7eUa6rdHmpjz2utNTOGjWBs1AOATkHvhx1OvMCFXTImskOJ57xzpKQzqXoGRWabjHpsCHQDVriusANnuDnf0Jl1Wj0nu2/ZcW4Zl8WpSMLVdlJXy8ZlqwFguaqdgIpO1ZsGBdBwQE23afeLPGWdIYNccUHfKx5nW5SBaNX2MZlpzOcWrgjDRj3AGvZyNMY5Y+ofTjVBkHlisQdBRpi42EXkbhH5SxF5UUReEJHPjravicizIvLy6H/nx04QBAeFaXT2PoDfSil9R0QWAXxbRJ4F8C8APJdSekJEHgfwOIDP7bcjQVLZYRcKVn8621lR7QHpiKyfA1BVZvZigQNfSLfxHGZY326SI0ujbx1BNgY6kGSRglq4kogrKwXYtBz9sJMjm4Oj1683daKQWkvbILhC7jRw9VgAmCtrp5km6c3dpnUA2ippO8VCxdoKqk5W2kn0e1R1ZTD5xyv34Xnjai8AMCf72zY8WM9nHR6wgSyeXr8fciM6e0rpXErpO6O/dwG8COAkgI8DeGrU7SkAn7gmqYIgmCnXpLOLyH0A3gPgGwCOpZTOAZe/EAAcvenSBUFw05h6sYvIAoA/A/AbKSVbnXDvcZ8RkVMicqpbs3nGgiCYDVMtdhEp4vJC/+OU0pdGmy+IyInR5ycA2FKjAFJKT6aUHkkpPVJasQEqQRDMhokGOhERAH8A4MWU0u+OffQ0gMcAPDH6/8uT9jVMoqKozrdsplk2AK2WtPGNM8wA1ug152SQYcPHcl7v14smaidtWFrv2XJPzDSON1Y2ys5KZZM9x5wLHS2LF9W31dRfrlzuet6JRpsv6mNzuS3PEMiOOK0V/QuuUbNf8r2+NqQ1O9aIVyBnnVJBz+18yTplcTRdg0pDdx0Hn9TXz7yNHZ0RZ2dgIzUrBTt3t4JJzjvMfnmRprHGvx/ApwD8PxH53mjbv8flRf5FEfk0gNcA/Mo1SRUEwUyZuNhTSn+Fvb8wPnhzxQmC4FYRHnRBkBFmGwiTBPXuVUeU5ARVHKnqIBbOFlPJWV2JdXYvwyb3YScaT2cvCVeE0Q4yZUeWJmWg5eN4JY+HlGWUs9iyfg4Ar+7ogKD+0H5vd7qUUbeqdeu5onVQOkLlr0tkc/Aq2lQL+thr89oe0u1ahyXOOlOZoqwzl8z2gmfmivqalMhxqOb8Rm32qMwzOQFtD+w5Hy9sm20HnXiyB0FGiMUeBBkhFnsQZISZ6uwJonRLrqwK2Pfo/A7aTdpAX1n5ZPfLSTCKpIvO5ey7+SOFnX3bF/tWl+baIVs9re+xPg4A/QmJKF7ePmK2dQeTk1fMVbRezO+p55xAJK5m++6511T7B817zJiLXR38c5qyPSzM2XfoTcome3LJOmWyHYIr2HiBPFwRl/025sr2nNmm0Nslm4njX/HOyhmzbRzPbsSVXm8NkbwiCDJPLPYgyAix2IMgI8RiD4KMMNuSzUlnJ/XKJHOWV5NBxokLaA7JAOScFQeXVGRyiZ+KaAeNedH7aOSssW2YllWby0FtdXWpqstjtOGGSyxxllUAWCRDk2fsZCcUPk7bc/ChPis57SBzuKiz5wI2Uy8bxTigBQDaO3ruXinYrMGPnDit2o2ivs6e/EUKRGr1dR92sgGAUokdrvTnmz3rVMP3BpdW9uAeXkbjG2U/E2A82YMgI8RiD4KMEIs9CDLCbHV26OAXT2fvkx7TNwErVueaJkEEl7LltudUc4j0VXaK6CU7fVzdhUsre3omO7fUKUMqly4GgKWyDsrxHGSaVBFmt6v1ZHZSAYAfN7QDDzsBedfMK+M8Tm3XJq+Qlj7H+iVry7iwopObHKYgHTf4h2QpkQ7vBV+VCvr+aRT1fHPpawCYNzq77NsGrI4+mKJa0LUizvV5g3iyB0FGiMUeBBkhFnsQZITZ6uwCFMbecxa8KpakU3Hbq9xShta5Bs77yw4FwkyT1LFI29r0Pr82sHpmra+3bXV026uyebyig0BY1+45VU0apG9fbNp3wRe3tM47vER+AUs2+cbumt7v1pyWf7lk04Hze/XzdX3cwXk7T8WGvq79vtVxtzs60eNSqW36MOxvwDYGT//O53SfXIGCr5z7qUz3LifidHV2chLp3oJnbbxnD4IgFnsQZIVY7EGQEWKxB0FGmKmBTpCUwcRz0GCjGMNOE95+pimLXKcqH7sD6/hxnhwnXu1qh5OXmsfNmNcaOksLB2I8uHrWjDlKwSXdOX2Or2zaIJHTF/Vx5uesU9Dbj22o9sYiGQ83dYYZANh6Re+3cVwb9Wpzdp6aVGWl/TNtoCvt2GdKv0LX3rnsnHWm3bcOSYxXUnocL2DIbCMrl3dPlmgbG+RyjvMOZxH2jLU3yg2VbA6C4M1BLPYgyAix2IMgI8w8uywnR2BYJ2eHhnLO6uMmEMP5CsslrctwttnzfZ10wtv2Qv2kav9457AZ0+rp/T6wqitZHy7qYA7AOvSsFXV10r9z8hUzhs95t2cTabAto0tZbI/dY2V59ZK2D7Q2tJ7fPWedd8qX9IRT4Rm0DzuZVte0PUQKVi9uUdKO0zv6enC2XMBWhOH7zQuEMU5LJO5KUQdEAfYWK7L9ybFHcVIMz/GGncgYrsQ7Sa5pPwuC4E1ELPYgyAix2IMgI8w84WR/7N1pfQo9s0RfR0On2gsHN3gBNqy7cVIGr1LLubbWEV+8dFQft2ff+x5e0Pr2ElW4We/qd9AAsNHR77t3etoHoOC852X9e6tt339f3KRKJuf1OQ4WnCSbazrYJL+kA4YKjp7cntf7LV3Q81K9aPXQLunjvWV7jvW+vvj5CgWfOMEz1QU934tkQPDes3O12DTU+727smnGFOnQk+vzADkaM3SrxiTqQ/uYcIx4zx4EQSz2IMgKsdiDICNMXOwiUhGRb4rI90XkBRH5ndH2NRF5VkReHv2/OmlfQRDcPqYx0HUAfCClVBeRIoC/EpH/DeAfA3gupfSEiDwO4HEAn9tvRyJJZfL0qnOwIY0rfHiw401rYLOmcpZadl443bDfVT88rQNdhDKazM3b4JMdKkX8/NYJ1d5qWkNap6svw5AMRLmck9G1rQ1cXlbR4iva0FfcpWwqFftd363TPFXJRLRss9sU10kWMpzl7BAji/vc2dbbkujjsMELAHpJz//2/dpxaIE9fgD0+2Reo/2+raQdo4DpDHKTxrj7uA7D3z7DFROf7Okyb8xYcfQvAfg4gKdG258C8IlrlCsIghkylc4uInkR+R6AdQDPppS+AeBYSukcAIz+P7rH2M+IyCkROdXbtvnLgiCYDVMt9pTSIKX0MIC7ALxXRN417QFSSk+mlB5JKT1SXLY/YYMgmA3X5FSTUqqJyFcBfBjABRE5kVI6JyIncPmpP5FxnaLTt4evlLWCV5qi2gt7HnjBNpwoYLOnAzxeOnPMjJFLWvfnJKOtC9YRp0GntDVHNgcnt0J+h5w68lrW3oqdA66oMsw7OvuOngeK/YE4U1tZp6olpNd3u/b5UNmgYBOaA69gDB8733IqtWzrdrGuz9HLc8LnuHUPOVwt2KAWipFCnoJyDuVtwBBbkq7V+cUbMw0Dx2dmfD/7hclMY40/IiIro7+rAD4E4IcAngbw2KjbYwC+PJW0QRDcFqZ5sp8A8JSI5HH5y+GLKaVnROTrAL4oIp8G8BqAX7mFcgZBcINMXOwppR8AeI+z/RKAD94KoYIguPmEB10QZISZZ6oZd2bhkjmAH+E1TsspecxZW+bztnwxw+V+h13rvlClDCzGYNRwopbIn6d1TMs7qNoxhTqVuKLAuGHbficnMiLl61Z+NlaxrdMznFGSnKngS8b2LJbjsjDU3LVdCm3KGtxM9Lm9V5qH9TzML+govtWKff17qaajDquUqdfLVsxZZ5jJrmBAfv+kNO5xvOw2r/ZWrvzdSbU99xVP9iDICLHYgyAjxGIPgowwU519OBTUxwJFik7WkFpXe9lV89rJpj90dFNyoik4wTMcLHO8opXE6rItB5zyWgFvnNQKVHXd6k8mySidYmnLGWPEFfrcnjM7rnj0F7QwXO2679gPUkHPU/uYFi7NW0+cQVk7F+U7rFtPFBVuUlUSr7NMzjt5+6yq36vbhyta//aqEPV7emIWV/UYr0x4j65R/jqquwynGMI6ulc++pnaw1f+rg0u7LmveLIHQUaIxR4EGSEWexBkhJnr7M36Vf3Orc5B77+5Kudcwb5DZ519u2ej61j3rxb1+9YTKztmzCtv0zp7ZV4fe/FhG1TBlUdXqUIJJ7cAgJ26lnfQpMvSs9/JQgkuUsXJFLukdc+1Rf0SnWUFgM0juuKLOY4jS+uEvkb9eT2mvOn4U9A7cx4DAPW3k72Agn1KF6388w/pTLB3LdZU+8zuihmDmnYEuFjUjg6XBrba7UpOzy1nhfUqt1yPXs9JVlyd/a8fvPL3dvtre+4rnuxBkBFisQdBRojFHgQZIRZ7EGSE2ZZ/GgqGY8YnJzkJmrvagJWO6E73LdtSPIxXVmqnqzOtLpOBzgvAWVzWfaolbWz7hSOvTZSFjYeuUwc5CtXIwLjZ0Vl1AKBHY8p56+yyUtLyr5W0ge7FbZ09FwB6lGm1S22xoqA3p+els6gNm4OyjYTh6e4vWgPj/Fu041Orqa9rb86e86F5bTRlg9zr52wW4dIOZeNZ1MuiOXTKlE0wyBUdY9w0gS/2OHqiOo6Dz8L3r97buebeB4knexBkhFjsQZARYrEHQUaYuc6ea17VObwssNKh758junm2rssoA0CDyv8W81b/rpJzCx/751fOmzF9cmDYaWu9/6f1w2bMApVoZr15PmcrknAZ4bWSbm+0taMLYHVGz+awQnaJoyXSgRds5ZzFoo5a2Whph5J6x47h7Ky9opZlUHESdrBu6eQsabVI929rfbVQtTr7Rl3PVe2Slr+wYe0HRUoeArJBHClYh6sKzfc0JZzzcu1KOzvrbDt9ll+5au/I29vrCvFkD4KMEIs9CDJCLPYgyAgz1dllqHW1Yc9JykDBDusXl1S7WHGqo9A7zl7HnlahpN/j8vvuxaJVdpo9rd/VW/p963rOBkgsrWidd5EyN3gJM4dkG+BgB6/a7cWm1k1Pb62YPj/JH1Lt+fLkRJydnp67ekPbKbzgJdbZsavPsbRtx7CePCjbPoOWlkUa+n7pO9Vptjf0NSpv6TGeTtunuKn33fOqat9XsJrySk4fOyeczMKrSnTtz9Yh2Qa+07U2q8WXaleP2967glI82YMgI8RiD4KMEIs9CDJCLPYgyAgzdqoB8u2rhouCU32kfZgyopKRpldznDooS4tXHaW7pPuczWlDx3BoDSrdLW2cKq9pJxXPcNYeaHnZINdxyrBwIMzrTS2bFzwzGE7+ni6SfLtkYOw5BtL+hrZWSZcCeXp2noZVbUQqNLRsXjlmtlMWnD59IQMdV57ZsXNgykdTF2cq0XpAW+3++ZFvqPbhvJ2niuy/dAquW40mL5Ov4SDpk/5K7UHb6cLG1b/7YaALgswTiz0IMkIs9iDICLPV2QFV5YOrigJAcZcSCZS4xIpVuqQ9hX60rfsMFkkXzTn77es+3bZWNBtV6yDTLGmbAieiaDtONQzbArjiLGD1eE/+OUq2wQ4yvba9/KUaOfgs0nFsQl3kKXiJK9l6lWtzHdLRHV2a+1QoS21506loQ/PQr9I1XLHH+Sfv/o5q/82yTpAyJ3reAKAok++5mwHr9d+7dJfps9C9dLVhPJyuEk/2IMgIsdiDICNMvdhFJC8i3xWRZ0btNRF5VkReHv1vk3sFQXBguBad/bMAXgTwRmTK4wCeSyk9ISKPj9qf228HkoD8WCyGODo76/FF0iG9RAgDeoc+5AQYzn56F3TmRDlkIyS4Yunikn7P7iXJaPa0wnphqAN5uk4V2vmiDlA5RhVmX2vY79HFspa3VrdVcGpNva3f5TKudp4GnFuRdODeqqN/NykohK4h2z4AG5AysGoxiruks1+khB0dK8uwQAE2tN/q37oE5lNrX1ft1ZwelHOCWmZFL+l7+8wPj5k+DzRPX/k7DZ0sICOmerKLyF0A/hGA/zG2+eMAnhr9/RSAT0yzryAIbg/T/oz/fQC/DZ086FhK6RwAjP4/6g0Ukc+IyCkROTVoOi5zQRDMhImLXUQ+CmA9pfTt6zlASunJlNIjKaVH8nM2l1oQBLNhGp39/QA+JiIfAVABsCQifwTggoicSCmdE5ETANZvpaBBENwYExd7SunzAD4PACLySwD+bUrp10TkPwN4DMATo/+/PPFoSRvluGwvLh+ExkwRiFGm6hxN5wcLbSrukLNF0alaQsfe7evMNM157bQCAIWCNqjce2hLtb1ML7bkNAXgONVe6l1tSfMCeUygC3cpWGOOnNRGyLRDHjKOU1Oi1Kp9HuIYYr0SzQwl+UG+Rw4+bsyH7tOkoje/9057m95buJ5Synsbwm4m9aG2ZK6+4GQKGo7Jv8+p3Mh79icAPCoiLwN4dNQOguCAck3usimlrwL46ujvSwA+ePNFCoLgVhAedEGQEWYaCJMbAOXaVaWCgxQAIEdqcJHzQzg6SaFFWUedSqP9OdLrWR9sOd97pAcPyMFk0LB6/iCnp/RsUTvVvHXNVqFt9fV+WIff6ViPk3ZfH2dlsWX6cLBMi6qpegkwclSdZpeCZXLmggCyQ7dRnnVrRz/nCipd26e4S5VRycbjmD/QPqrvhb/3gR+o9oOlDTB5WgadpG9CLyvs9VR3YabJNnt2oI+z+rJ1/pLcWJ99TAnxZA+CjBCLPQgyQiz2IMgIs0842b2qd4lV/0wgBlcKcYqVGl3OTXBIai/nfRTn/b1JgkiJBIZOUoZU1idVIB244Jz0ZlPr9dUlrTMulcnAAKDe0WPyTvKKlarONDFf0gE3tZa1BbSoSmuu5FwkYjBP50wJP4fOe2zW0ctbpgtKpLPnurrdXbTPqs4v6Yqrv3n8WdWuOLp2m4JNuJqLl/Czd+2v5g1e1Rjmha52FCidthM1VPfl3vuMJ3sQZIRY7EGQEWKxB0FGiMUeBBlhtgY6AdKYA4BnbGP7VbFBjhROUk82tuWdDCaLP9Xtzqo2ZAxtoRnjwCPk4CBOBeRERjwuk9zocSoYoEOlobkcczE3Oeii3bOXcr2uA3cOzWuDnWfUGwy0/IkDbLwssIvaoGgyBXneL8bo5WSz6e1/7dd/we729x76kmqv5fQNNXDkZxOkiSlyMrbyU/J6wmIGzn7ZWeeLF/RJpnM2uDT1xu6xyC4bBEEs9iDICLHYgyAjzFZnT0Cuf1WnKLSd7KBUBURIyRoWrW7XWeaMop6DjN5PhaqJdJecpAD0VZgn2bzqIt0F2u9AK5rNrk3N1Wp6BoOrsB4NAGuLlM/PsR+0u9oWsJ3XTjS1XZuRtlcjR5uS1kY9J5tSWWeR6A21XaJUs3PL9pqc46Uyfq8AwPZb9e36Lz/0F2bMg6UbT5jk6dKmz3V8znq9Zz9gnfvbL75VtR9o6eo110I82YMgI8RiD4KMEIs9CDJCLPYgyAgzNdANi0Dz2NXvl7kLTnZT2sQZaD2HmUEpP7FP64g2EnEWFC5HBADdRd0u7VIHx1lkUNJTWlvQaXOKJZsSddijEldkkGvXrQGvW9UC9wbW24gz2e5Qyeahl6mGMvPyFZKyNT1xRl2uMuU5LBVpLj0HK2bnIX3OH138vt3vjCo1GUecacbQbdlzHIna5DlUfY2yIQ0nRyHuRTzZgyAjxGIPgowQiz0IMsJsdfZqws6DV70/cl2rzJV2KKMox2E4gTCFltaYxoNt3oAdYjgDDme1BaweySr6eKbcK/uhTKr1IpVNXnO8Xzr6pHqk96Nrv5PrLe24wnozYDPFNi+SQ4+jf8uE6ihDJ1Ms2wZ4njx9nKu5lGu2U45sL9KcfLuWbkLW12mcaphpAmPyJNrQOc4uGTgOvXD9OjoTT/YgyAix2IMgI8RiD4KMMFOdPV8YYPXw1RestXesmD5LL2v9VehdcKlhtSHW0fNdqwtVN/S4ztL+Ojxgg2VYEfMCeVg/nXud3pl3bPKKHKnxaUvPQarY47RLWrcrOPr3oE/f5dzHqfyaFnQfyU9+g9w4r20B5Zo+LlffAYC5db3f6kVrNMl1tSzHv6btH//lPf/AjPlPdz2j2pxNdqqn2zR6/3Xo9TyTnk/A6/1V1V58SWeTvRENPp7sQZARYrEHQUaIxR4EGSEWexBkhJka6Aq5ocpwOrjHftdsF3X0SfcMlSb+id0vG+TcUtDkxFGgCseeUa+0q00qg9LkUlRMmYx8pqQUgCE5CvXJ96XQcAImclR+Weyl5DLUiUopu4E8bKCj9tApU11Z18euXti/PDYAVDb1BSns2kik3I6+SJQECC/8r3eaMU88pg/2747+X9VedByumOIUZZmKE4x4AycN71Tlnlp3qbbsNPboee3Ekz0IMkIs9iDICLHYgyAjSLoO54DrPpjIRQA/A3AYwMbMDnzj3Eny3kmyAneWvHeCrPemlI54H8x0sV85qMiplNIjMz/wdXInyXsnyQrcWfLeSbJ6xM/4IMgIsdiDICPcrsX+5G067vVyJ8l7J8kK3Fny3kmyGm6Lzh4EweyJn/FBkBFmvthF5MMi8pKI/FhEHp/18fdDRL4gIusi8vzYtjUReVZEXh79v7rfPmaFiNwtIn8pIi+KyAsi8tnR9oMqb0VEviki3x/J+zuj7QdSXgAQkbyIfFdEnhm1D6ys0zDTxS4ieQD/DcA/BPBOAJ8UEevgfPv4QwAfpm2PA3gupXQ/gOdG7YNAH8BvpZR+HsAvAvhXo7k8qPJ2AHwgpfQQgIcBfFhEfhEHV14A+CyAF8faB1nWyaSUZvYPwN8G8JWx9ucBfH6WMkwh430Anh9rvwTgxOjvEwBeut0y7iH3lwE8eifIC2AOwHcAvO+gygvgLlxe0B8A8MyddC/s9W/WP+NPAjg91j4z2naQOZZSOgcAo/+P3mZ5DCJyH4D3APgGDrC8o5/F3wOwDuDZlNJBlvf3Afw2dDapgyrrVMx6sXsxfvE64AYQkQUAfwbgN1JKO7dbnv1IKQ1SSg/j8lPzvSLyrtsskouIfBTAekrp27dblpvJrBf7GQB3j7XvAnB2xjJcKxdE5AQAjP5fv83yXEFEiri80P84pfSl0eYDK+8bpJRqAL6Ky/aRgyjv+wF8TEReBfCnAD4gIn+Egynr1Mx6sX8LwP0i8lYRKQH4VQBPz1iGa+VpAI+N/n4Ml3Xj246ICIA/APBiSul3xz46qPIeEZGV0d9VAB8C8EMcQHlTSp9PKd2VUroPl+/Rv0gp/RoOoKzXxG0wfHwEwI8A/ATAf7jdRguS7U8AnAPQw+VfIZ8GcAiXDTUvj/5fu91yjmT9u7isAv0AwPdG/z5ygOV9N4DvjuR9HsB/HG0/kPKOyf1LuGqgO9CyTvoXHnRBkBHCgy4IMkIs9iDICLHYgyAjxGIPgowQiz0IMkIs9iDICLHYgyAjxGIPgozw/wERWjIxE1FOiwAAAABJRU5ErkJggg==",
>>>>>>> 68f15bcdb3e22d074447a5f0ca1ccef52070c521
      "text/plain": [
       "<Figure size 432x288 with 1 Axes>"
      ]
     },
     "metadata": {
      "needs_background": "light"
     },
     "output_type": "display_data"
    }
   ],
   "source": [
<<<<<<< HEAD
    "plt.plot(history.history[\"val_loss\"])"
=======
    "plt.imshow(x_train_reshaped[270])\n",
    "plt.show()"
>>>>>>> 68f15bcdb3e22d074447a5f0ca1ccef52070c521
   ]
  },
  {
   "cell_type": "code",
<<<<<<< HEAD
   "execution_count": 40,
=======
   "execution_count": null,
>>>>>>> 68f15bcdb3e22d074447a5f0ca1ccef52070c521
   "metadata": {},
   "outputs": [],
   "source": [
    "#y_test = model.predict(x_test_reshaped)"
   ]
  },
  {
   "cell_type": "code",
   "execution_count": 41,
   "metadata": {},
   "outputs": [
    {
     "ename": "NameError",
     "evalue": "name 'y_test' is not defined",
     "output_type": "error",
     "traceback": [
      "\u001b[1;31m---------------------------------------------------------------------------\u001b[0m",
      "\u001b[1;31mNameError\u001b[0m                                 Traceback (most recent call last)",
      "\u001b[1;32m<ipython-input-41-7cd3c35ee0b7>\u001b[0m in \u001b[0;36m<module>\u001b[1;34m\u001b[0m\n\u001b[1;32m----> 1\u001b[1;33m \u001b[1;32mfor\u001b[0m \u001b[0mi\u001b[0m \u001b[1;32min\u001b[0m \u001b[0mrange\u001b[0m\u001b[1;33m(\u001b[0m\u001b[0my_test\u001b[0m\u001b[1;33m.\u001b[0m\u001b[0mshape\u001b[0m\u001b[1;33m[\u001b[0m\u001b[1;36m0\u001b[0m\u001b[1;33m]\u001b[0m\u001b[1;33m)\u001b[0m\u001b[1;33m:\u001b[0m\u001b[1;33m\u001b[0m\u001b[1;33m\u001b[0m\u001b[0m\n\u001b[0m\u001b[0;32m      2\u001b[0m     \u001b[1;32mif\u001b[0m \u001b[0mnp\u001b[0m\u001b[1;33m.\u001b[0m\u001b[0margmax\u001b[0m\u001b[1;33m(\u001b[0m\u001b[0my_test\u001b[0m\u001b[1;33m[\u001b[0m\u001b[0mi\u001b[0m\u001b[1;33m]\u001b[0m\u001b[1;33m)\u001b[0m\u001b[1;33m==\u001b[0m\u001b[1;36m0\u001b[0m\u001b[1;33m:\u001b[0m\u001b[1;33m\u001b[0m\u001b[1;33m\u001b[0m\u001b[0m\n\u001b[0;32m      3\u001b[0m         \u001b[0mprint\u001b[0m\u001b[1;33m(\u001b[0m\u001b[1;34m\"male\"\u001b[0m\u001b[1;33m)\u001b[0m\u001b[1;33m\u001b[0m\u001b[1;33m\u001b[0m\u001b[0m\n\u001b[0;32m      4\u001b[0m     \u001b[1;32melse\u001b[0m\u001b[1;33m:\u001b[0m\u001b[1;33m\u001b[0m\u001b[1;33m\u001b[0m\u001b[0m\n\u001b[0;32m      5\u001b[0m         \u001b[0mprint\u001b[0m\u001b[1;33m(\u001b[0m\u001b[1;34m\"female\"\u001b[0m\u001b[1;33m)\u001b[0m\u001b[1;33m\u001b[0m\u001b[1;33m\u001b[0m\u001b[0m\n",
      "\u001b[1;31mNameError\u001b[0m: name 'y_test' is not defined"
     ]
    }
   ],
   "source": [
    "for i in range(y_test.shape[0]):\n",
    "    if np.argmax(y_test[i])==0:\n",
    "        print(\"male\")\n",
    "    else:\n",
    "        print(\"female\")\n",
    "    plt.imshow(x_test_reshaped[i])#,cmap=\"Greys\"\n",
    "    plt.show()\n",
    "    time.sleep( 5 )"
   ]
  }
 ],
 "metadata": {
  "interpreter": {
   "hash": "5b3b6bd5f33e38b5c74f32698fe5ebdf4497d6892d0b584ca7729cd6435721ce"
  },
  "kernelspec": {
   "display_name": "Python 3.8.8 64-bit ('base': conda)",
   "name": "python3"
  },
  "language_info": {
   "codemirror_mode": {
    "name": "ipython",
    "version": 3
   },
   "file_extension": ".py",
   "mimetype": "text/x-python",
   "name": "python",
   "nbconvert_exporter": "python",
   "pygments_lexer": "ipython3",
   "version": "3.8.8"
  },
  "orig_nbformat": 4
 },
 "nbformat": 4,
 "nbformat_minor": 2
}
