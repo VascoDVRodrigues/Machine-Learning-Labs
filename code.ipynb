{
 "cells": [
  {
   "cell_type": "code",
   "execution_count": 29,
   "metadata": {},
   "outputs": [],
   "source": [
    "import numpy as np\n",
    "from sklearn import linear_model\n",
    "from sklearn.model_selection import cross_validate\n"
   ]
  },
  {
   "cell_type": "code",
   "execution_count": 30,
   "metadata": {},
   "outputs": [],
   "source": [
    "x_train = np.load(\"./Xtrain_Regression_Part2.npy\")\n",
    "y_train = np.load(\"./Ytrain_Regression_Part2.npy\")\n",
    "x_test = np.load(\"./Xtest_Regression_Part2.npy\")\n"
   ]
  },
  {
   "cell_type": "code",
   "execution_count": 32,
   "metadata": {},
   "outputs": [],
   "source": [
    "hubberReg = linear_model.HuberRegressor(alpha=0.0, epsilon=1.25).fit(x_train,y_train.ravel())\n",
    "lassoReg = linear_model.Lasso(alpha=0.002).fit(x_train,y_train)"
   ]
  },
  {
   "cell_type": "code",
   "execution_count": 33,
   "metadata": {},
   "outputs": [
    {
     "name": "stdout",
     "output_type": "stream",
     "text": [
      "Iteration 0\n",
      "\n",
      "Hubber regression MSE score before outlier removal: 1.6756423110486067\n",
      "Lasso regression MSE score before outlier removal: 1.9565510609224872\n",
      "85\n",
      "Iteration 1\n",
      "\n",
      "Lasso regression MSE score after outlier removal: 0.688369424362033\n",
      "\n",
      "Hubber regression MSE score after outlier removal: 0.5393110313159859\n",
      "\n",
      "78\n",
      "Iteration 2\n",
      "\n",
      "Lasso regression MSE score after outlier removal: 0.01651227654170886\n",
      "\n",
      "Hubber regression MSE score after outlier removal: 0.017415531982671085\n",
      "\n",
      "90\n",
      "Iteration 3\n",
      "\n",
      "Lasso regression MSE score after outlier removal: 0.015102584922428249\n",
      "\n",
      "Hubber regression MSE score after outlier removal: 0.015914137306380277\n",
      "\n",
      "52\n",
      "Iteration 4\n",
      "\n",
      "Lasso regression MSE score after outlier removal: 0.01396778175739311\n",
      "\n",
      "Hubber regression MSE score after outlier removal: 0.014300177322621769\n",
      "\n",
      "33\n",
      "Iteration 5\n",
      "\n",
      "Lasso regression MSE score after outlier removal: 0.012436502548061354\n",
      "\n",
      "Hubber regression MSE score after outlier removal: 0.012641708979272066\n",
      "\n",
      "2\n",
      "Iteration 6\n",
      "\n",
      "Lasso regression MSE score after outlier removal: 0.011304067554087907\n",
      "\n",
      "Hubber regression MSE score after outlier removal: 0.012299678333837792\n",
      "\n",
      "76\n",
      "Iteration 7\n",
      "\n",
      "Lasso regression MSE score after outlier removal: 0.010186208646570286\n",
      "\n",
      "Hubber regression MSE score after outlier removal: 0.01188336892981547\n",
      "\n",
      "59\n",
      "Iteration 8\n",
      "\n",
      "Lasso regression MSE score after outlier removal: 0.00905416629789459\n",
      "\n",
      "Hubber regression MSE score after outlier removal: 0.011145477129403083\n",
      "\n",
      "30\n",
      "Iteration 9\n",
      "\n",
      "Lasso regression MSE score after outlier removal: 0.009339274711121847\n",
      "\n",
      "Hubber regression MSE score after outlier removal: 0.010605273295590968\n",
      "\n",
      "57\n",
      "Iteration 10\n",
      "\n",
      "Lasso regression MSE score after outlier removal: 0.009121684579598936\n",
      "\n",
      "Hubber regression MSE score after outlier removal: 0.009903908270069114\n",
      "\n"
     ]
    }
   ],
   "source": [
    "print(\"Iteration 0\\n\")\n",
    "scoreshubber = cross_validate(hubberReg, x_train, y_train.ravel(), cv=100, scoring = \"neg_mean_squared_error\", return_train_score=True)\n",
    "print(\"Hubber regression MSE score before outlier removal: \" + str(abs(np.average(scoreshubber[\"test_score\"])) ))\n",
    "scoreslasso = cross_validate(lassoReg, x_train, y_train.ravel(), cv=100, scoring = \"neg_mean_squared_error\", return_train_score=True)\n",
    "print(\"Lasso regression MSE score before outlier removal: \" + str(abs(np.average(scoreslasso[\"test_score\"])) ))\n",
    "\n",
    "popper = list(scoreshubber[\"test_score\"])\n",
    "x_train1 = np.copy(x_train)\n",
    "y_train1 = np.copy(y_train)\n",
    "\n",
    "for j in range(10):\n",
    "    i = popper.index(min(popper))\n",
    "    print(i)\n",
    "    popper.pop(popper.index(min(popper)))\n",
    "\n",
    "    x_train1 = np.delete(x_train1, i, axis = 0)\n",
    "    y_train1 = np.delete(y_train1, i, axis = 0)\n",
    "\n",
    "    lassoReg1 = linear_model.Lasso(alpha=0.002).fit(x_train1,y_train1)\n",
    "    hubberReg1 = linear_model.HuberRegressor(alpha=0.0, epsilon=1.25).fit(x_train1,y_train1.ravel())\n",
    "    print(\"Iteration \"+ str(j+1) + \"\\n\")\n",
    "    scoreslasso1 = cross_validate(lassoReg1, x_train1, y_train1, cv=100-(j+1), scoring = \"neg_mean_squared_error\", return_train_score=True)\n",
    "    print(\"Lasso regression MSE score after outlier removal: \" + str(abs(np.average(scoreslasso1[\"test_score\"])) )+ \"\\n\")\n",
    "\n",
    "    scoreshubber = cross_validate(hubberReg1, x_train1, y_train1.ravel(), cv=100-(j+1), scoring = \"neg_mean_squared_error\", return_train_score=True)\n",
    "    print(\"Hubber regression MSE score after outlier removal: \" + str(abs(np.average(scoreshubber[\"test_score\"])) )+ \"\\n\")\n"
   ]
  },
  {
   "cell_type": "code",
   "execution_count": 34,
   "metadata": {},
   "outputs": [],
   "source": [
    "scoreshubber1 = cross_validate(hubberReg, x_train, y_train.ravel(), cv=100, scoring = \"neg_mean_squared_error\", return_train_score=True)\n",
    "popper1 = list(scoreshubber1[\"test_score\"])\n",
    "for j in range(2):\n",
    "    i = popper1.index(min(popper1))\n",
    "    popper1.pop(popper1.index(min(popper1)))\n",
    "\n",
    "    x_train = np.delete(x_train, i, axis = 0)\n",
    "    y_train = np.delete(y_train, i, axis = 0)"
   ]
  },
  {
   "cell_type": "code",
   "execution_count": 35,
   "metadata": {},
   "outputs": [
    {
     "name": "stdout",
     "output_type": "stream",
     "text": [
      "LR MSE score: 0.017795511604880042 for alpha 0.004and k 5\n",
      "LR MSE score: 0.017773306249458953 for alpha 0.0035and k 5\n",
      "LR MSE score: 0.017772449044988 for alpha 0.003and k 5\n",
      "LR MSE score: 0.01779300730720093 for alpha 0.0025and k 5\n",
      "LR MSE score: 0.01783488260297859 for alpha 0.002and k 5\n"
     ]
    }
   ],
   "source": [
    "alpha_prime = [0.004,0.0035,0.003,0.0025, 0.002]\n",
    "\n",
    "for alpha in alpha_prime:\n",
    "    lasso = linear_model.Lasso(alpha=alpha).fit(x_train,y_train)\n",
    "    scores = cross_validate(lasso, x_train, y_train, cv=5, scoring = \"neg_mean_squared_error\", return_train_score=True)\n",
    "    print(\"LR MSE score: \" + str(np.average(abs(scores[\"test_score\"]))) + \" for alpha \" + str(alpha) + \"and k \" + str(5))"
   ]
  },
  {
   "cell_type": "code",
   "execution_count": 36,
   "metadata": {},
   "outputs": [],
   "source": [
    "lasso = linear_model.Lasso(alpha=0.003).fit(x_train,y_train)\n",
    "y_test = lasso.predict(x_test)"
   ]
  },
  {
   "cell_type": "code",
   "execution_count": 37,
   "metadata": {},
   "outputs": [],
   "source": [
    "np.save(\"predictor\",y_test.reshape(1000,1))"
   ]
  }
 ],
 "metadata": {
  "interpreter": {
   "hash": "7010eaac7a649698cb614f1498704cb43541e040c41288c254b1b379e133eb80"
  },
  "kernelspec": {
   "display_name": "Python 3.8.8 64-bit ('base': conda)",
   "name": "python3"
  },
  "language_info": {
   "codemirror_mode": {
    "name": "ipython",
    "version": 3
   },
   "file_extension": ".py",
   "mimetype": "text/x-python",
   "name": "python",
   "nbconvert_exporter": "python",
   "pygments_lexer": "ipython3",
   "version": "3.8.8"
  },
  "orig_nbformat": 4
 },
 "nbformat": 4,
 "nbformat_minor": 2
}
