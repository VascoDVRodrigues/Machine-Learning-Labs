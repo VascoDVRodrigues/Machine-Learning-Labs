{
 "cells": [
  {
   "cell_type": "markdown",
   "metadata": {},
   "source": [
    "# Project  Part 1 - Regression\n",
    "## First Problem"
   ]
  },
  {
   "cell_type": "code",
   "execution_count": 59,
   "metadata": {},
   "outputs": [
    {
     "name": "stdout",
     "output_type": "stream",
     "text": [
      "Linear regression MSE score: 0.01672994832315826\n",
      "Ridge regression MSE score: 0.016732287573561235\n",
      "Lasso regression MSE score: 0.016996066742348805\n"
     ]
    }
   ],
   "source": [
    "import numpy as np\n",
    "from sklearn import linear_model\n",
    "from sklearn.model_selection import cross_validate\n",
    "\n",
    "#Load the datasets\n",
    "x_train = np.load(\"./Xtrain_Regression_Part1.npy\")\n",
    "y_train = np.load(\"./Ytrain_Regression_Part1.npy\")\n",
    "x_test = np.load(\"./Xtest_Regression_Part1.npy\")\n",
    "\n",
    "\n",
    "#Train the model with the training datasets\n",
    "reg = linear_model.LinearRegression().fit(x_train, y_train)\n",
    "ridgeReg = linear_model.Ridge(alpha= 0.001).fit(x_train,y_train)\n",
    "lassoReg = linear_model.Lasso(alpha=0.003).fit(x_train,y_train)\n",
    "#Normalize  = True\n",
    "#check the r2 score value for the several models\n",
    "scoresreg = cross_validate(reg, x_train, y_train, cv=5, scoring = \"neg_mean_squared_error\", return_train_score=True)\n",
    "scoresridge = cross_validate(ridgeReg, x_train, y_train, cv=5, scoring = \"neg_mean_squared_error\", return_train_score=True)\n",
    "scoreslasso = cross_validate(lassoReg, x_train, y_train, cv=5, scoring = \"neg_mean_squared_error\", return_train_score=True)\n",
    "\n",
    "print(\"Linear regression MSE score: \" + str(abs(np.average(scoresreg[\"test_score\"]))) + \n",
    "\"\\nRidge regression MSE score: \" + str(abs(np.average(scoresridge[\"test_score\"]))) +\n",
    "\"\\nLasso regression MSE score: \" + str(abs(np.average(scoreslasso[\"test_score\"])) ))\n",
    "\n"
   ]
  },
  {
   "cell_type": "code",
   "execution_count": 60,
   "metadata": {},
   "outputs": [
    {
     "data": {
      "text/plain": [
       "array([[ 2.17327582e-02,  5.52578871e-04,  7.80913919e-02,\n",
       "         3.31357433e-01, -6.81661406e-01,  1.69721957e+00,\n",
       "         4.98734472e-02,  1.81267959e+00,  7.78111741e-03,\n",
       "        -1.44714336e-02, -1.45742338e+00, -7.07007047e-01,\n",
       "         3.27382534e-02, -6.17384811e-01,  6.92794585e-03,\n",
       "        -3.76264812e-01, -1.29490509e-01, -1.36598513e+00,\n",
       "        -1.27365158e+00,  9.58563665e-01]])"
      ]
     },
     "execution_count": 60,
     "metadata": {},
     "output_type": "execute_result"
    }
   ],
   "source": [
    "reg.coef_\n"
   ]
  },
  {
   "cell_type": "markdown",
   "metadata": {},
   "source": [
    "Do we need to normalize the dataset when we know that the mean of the features is not zero?\n",
    "Quanto mais diminuimos o alpha, melhor o r2 score do lasso\n",
    "Check evolution of coef with change of alpha"
   ]
  },
  {
   "cell_type": "code",
   "execution_count": 61,
   "metadata": {},
   "outputs": [],
   "source": [
    "#Using the models trained, predict the outcome of the test dataset\n",
    "y_testReg  = reg.predict(x_test)\n",
    "y_testRidge  = ridgeReg.predict(x_test)\n",
    "y_testLasso  = lassoReg.predict(x_test)"
   ]
  },
  {
   "cell_type": "code",
   "execution_count": 62,
   "metadata": {},
   "outputs": [
    {
     "name": "stdout",
     "output_type": "stream",
     "text": [
      "LR MSE score: 0.2707329360566608 for alpha 0.1and k 5\n",
      "LR MSE score: 0.10619274593763717 for alpha 0.05and k 5\n",
      "LR MSE score: 0.04213901095183609 for alpha 0.02and k 5\n",
      "LR MSE score: 0.02816356419078129 for alpha 0.01and k 5\n",
      "LR MSE score: 0.022786245433925174 for alpha 0.005and k 5\n",
      "LR MSE score: 0.0227847818588715 for alpha 0.002and k 5\n",
      "LR MSE score: 0.022876237396620015 for alpha 0.001and k 5\n",
      "LR MSE score: 0.022939204552262938 for alpha 0.0005and k 5\n",
      "LR MSE score: 0.02298250144941471 for alpha 0.0002and k 5\n",
      "LR MSE score: 0.0229978456335126 for alpha 0.0001and k 5\n",
      "LR MSE score: 0.02304098595002253 for alpha 5e-05and k 5\n",
      "LR MSE score: 0.023062976477119464 for alpha 2e-05and k 5\n",
      "LR MSE score: 0.023072922598255902 for alpha 1e-05and k 5\n"
     ]
    }
   ],
   "source": [
    "alpha_prime = [0.1 , 0.05, 0.02, 0.01 , 0.005, 0.002, 0.001, 0.0005, 0.0002, 0.0001, 0.00005, 0.00002, 0.00001]\n",
    "k = [5, 10, 20, 50]\n",
    "for alpha in alpha_prime:\n",
    "    #for k_val in k:\n",
    "    lasso = linear_model.Lasso(alpha=alpha).fit(x_train,y_train)\n",
    "    scores = cross_validate(lasso, x_train, y_train, cv=5, scoring = \"neg_mean_squared_error\", return_train_score=True)\n",
    "    print(\"LR MSE score: \" + str(np.max(abs(scores[\"test_score\"]))) + \" for alpha \" + str(alpha) + \"and k \" + str(5))\n"
   ]
  },
  {
   "cell_type": "code",
   "execution_count": 63,
   "metadata": {},
   "outputs": [
    {
     "name": "stdout",
     "output_type": "stream",
     "text": [
      "for alpha 0.001\n",
      "\n",
      "[ 0.01980926  0.          0.07672696  0.32941302 -0.68092415  1.6958769\n",
      "  0.04853526  1.81098103  0.00630021 -0.01344989 -1.45590852 -0.70687155\n",
      "  0.03114838 -0.61632953  0.00691472 -0.37583388 -0.12767528 -1.36406911\n",
      " -1.27269758  0.9579917 ]\n",
      "for alpha 0.002\n",
      "\n",
      "[ 0.01783703  0.          0.07520893  0.3273864  -0.68027312  1.69477814\n",
      "  0.04737581  1.80936524  0.00489071 -0.01241814 -1.45433643 -0.70672976\n",
      "  0.02963505 -0.61524113  0.00680155 -0.37526473 -0.12595637 -1.36212833\n",
      " -1.27166191  0.95745897]\n",
      "for alpha 0.003\n",
      "\n",
      "[ 0.01586476 -0.          0.07369112  0.32535972 -0.67962196  1.693679\n",
      "  0.04621607  1.8077494   0.0034811  -0.01138636 -1.45276452 -0.70658803\n",
      "  0.02812171 -0.61415266  0.00668864 -0.37469568 -0.12423731 -1.36018752\n",
      " -1.27062638  0.95692615]\n",
      "for alpha 0.004\n",
      "\n",
      "[ 0.01389249 -0.          0.0721735   0.32333299 -0.67897067  1.6925795\n",
      "  0.04505606  1.80613351  0.00207138 -0.01035455 -1.45119281 -0.70644633\n",
      "  0.0266084  -0.61306411  0.00657599 -0.37412674 -0.12251812 -1.35824672\n",
      " -1.26959097  0.95639323]\n",
      "for alpha 0.005\n",
      "\n",
      "[ 1.19216199e-02 -0.00000000e+00  7.06567171e-02  3.21306444e-01\n",
      " -6.78318782e-01  1.69147857e+00  4.38948124e-02  1.80451734e+00\n",
      "  6.61391073e-04 -9.32268097e-03 -1.44962249e+00 -7.06304441e-01\n",
      "  2.50954340e-02 -6.11975167e-01  6.46444437e-03 -3.73558441e-01\n",
      " -1.20798052e-01 -1.35630623e+00 -1.26855619e+00  9.55859387e-01]\n",
      "for alpha 0.006\n",
      "\n",
      "[ 0.01004844 -0.          0.06914334  0.31943544 -0.6775853   1.69040218\n",
      "  0.04272217  1.80286087  0.         -0.00832991 -1.4479465  -0.70613949\n",
      "  0.02355499 -0.61085716  0.00633073 -0.37290797 -0.11918739 -1.35454185\n",
      " -1.26752598  0.95531668]\n",
      "for alpha 0.007\n",
      "\n",
      "[ 0.00824137 -0.          0.06763083  0.317683   -0.67679165  1.68935073\n",
      "  0.04154172  1.8011745   0.         -0.00737059 -1.44617462 -0.70595991\n",
      "  0.02198615 -0.60971628  0.00617112 -0.37218033 -0.11767393 -1.35293266\n",
      " -1.2664956   0.95476923]\n",
      "for alpha 0.008\n",
      "\n",
      "[ 0.00643433 -0.          0.06611837  0.31593057 -0.67599799  1.68829923\n",
      "  0.0403612   1.79948813  0.         -0.00641126 -1.4444028  -0.70578031\n",
      "  0.02041733 -0.60857539  0.00601155 -0.37145272 -0.11616044 -1.3513235\n",
      " -1.26546523  0.95422174]\n",
      "for alpha 0.009000000000000001\n",
      "\n",
      "[ 0.00462729 -0.          0.06460591  0.31417814 -0.67520432  1.68724773\n",
      "  0.03918069  1.79780176  0.         -0.00545193 -1.44263098 -0.70560072\n",
      "  0.01884851 -0.60743451  0.00585197 -0.3707251  -0.11464694 -1.34971433\n",
      " -1.26443487  0.95367425]\n",
      "for alpha 0.01\n",
      "\n",
      "[ 0.00282026 -0.          0.06309344  0.31242571 -0.67441066  1.68619624\n",
      "  0.03800017  1.79611539  0.         -0.0044926  -1.44085916 -0.70542113\n",
      "  0.01727968 -0.60629362  0.0056924  -0.36999749 -0.11313345 -1.34810517\n",
      " -1.26340451  0.95312676]\n"
     ]
    }
   ],
   "source": [
    "k = [5, 10, 20, 50]\n",
    "for alpha in range(1,11):\n",
    "    #for k_val in k:\n",
    "    lasso = linear_model.Lasso(alpha=alpha*0.001).fit(x_train,y_train)\n",
    "    print(\"for alpha \" + str(alpha*0.001) + \"\\n\")\n",
    "    print(lasso.coef_)\n",
    "    scores = cross_validate(lasso, x_train, y_train, cv=5, scoring = \"neg_mean_squared_error\", return_train_score=True)\n",
    "    #print(\"LR MSE score: \" + str(np.max(abs(scores[\"test_score\"]))) + \" for alpha \" + str(alpha*0.001) + \"and k \" + str(5))"
   ]
  },
  {
   "cell_type": "code",
   "execution_count": 77,
   "metadata": {},
   "outputs": [
    {
     "name": "stdout",
     "output_type": "stream",
     "text": [
      "[[ 2.17327582e-02  5.52578871e-04  7.80913919e-02  3.31357433e-01\n",
      "  -6.81661406e-01  1.69721957e+00  4.98734472e-02  1.81267959e+00\n",
      "   7.78111741e-03 -1.44714336e-02 -1.45742338e+00 -7.07007047e-01\n",
      "   3.27382534e-02 -6.17384811e-01  6.92794585e-03 -3.76264812e-01\n",
      "  -1.29490509e-01 -1.36598513e+00 -1.27365158e+00  9.58563665e-01]]\n",
      "[ 0.01586476 -0.          0.07369112  0.32535972 -0.67962196  1.693679\n",
      "  0.04621607  1.8077494   0.0034811  -0.01138636 -1.45276452 -0.70658803\n",
      "  0.02812171 -0.61415266  0.00668864 -0.37469568 -0.12423731 -1.36018752\n",
      " -1.27062638  0.95692615]\n"
     ]
    }
   ],
   "source": [
    "t1 = linear_model.Lasso(alpha=0.003).fit(x_train,y_train)\n",
    "#for i in range(20):\n",
    "#    print(t1.coef_[i])\n",
    "\n",
    "print(reg.coef_)\n",
    "print(t1.coef_)"
   ]
  },
  {
   "cell_type": "code",
   "execution_count": null,
   "metadata": {},
   "outputs": [],
   "source": [
    "#Save the outcome on an array to be exported\n",
    "np.save(\"Ytest_Regression_Part1\",y_testReg)"
   ]
  }
 ],
 "metadata": {
  "interpreter": {
   "hash": "5b3b6bd5f33e38b5c74f32698fe5ebdf4497d6892d0b584ca7729cd6435721ce"
  },
  "kernelspec": {
   "display_name": "Python 3.8.8 64-bit ('base': conda)",
   "name": "python3"
  },
  "language_info": {
   "codemirror_mode": {
    "name": "ipython",
    "version": 3
   },
   "file_extension": ".py",
   "mimetype": "text/x-python",
   "name": "python",
   "nbconvert_exporter": "python",
   "pygments_lexer": "ipython3",
   "version": "3.8.8"
  },
  "orig_nbformat": 4
 },
 "nbformat": 4,
 "nbformat_minor": 2
}
