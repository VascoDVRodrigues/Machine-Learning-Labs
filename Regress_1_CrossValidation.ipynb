{
 "cells": [
  {
   "cell_type": "code",
   "execution_count": 11,
   "metadata": {},
   "outputs": [
    {
     "name": "stdout",
     "output_type": "stream",
     "text": [
      "Linear regression mean r2 score: 0.9988432348405771\n",
      "Ridge regression mean r2 score: 0.9982649981475149\n",
      "Lasso regression mean r2 score: 0.9848621608470538\n"
     ]
    }
   ],
   "source": [
    "import numpy as np\n",
    "from sklearn import linear_model\n",
    "from sklearn.metrics import mean_squared_error, r2_score\n",
    "from sklearn.model_selection import cross_val_score\n",
    "\n",
    "\n",
    "x_train = np.load(\"./Xtrain_Regression_Part1.npy\")\n",
    "y_train = np.load(\"./Ytrain_Regression_Part1.npy\")\n",
    "x_test = np.load(\"./Xtest_Regression_Part1.npy\")\n",
    "\n",
    "\n",
    "\n",
    "reg = linear_model.LinearRegression().fit(x_train, y_train)\n",
    "ridgeReg = linear_model.Ridge().fit(x_train,y_train)\n",
    "lassoReg = linear_model.Lasso(alpha=0.1).fit(x_train,y_train)\n",
    "#Normalize  = True\n",
    "scoresreg = cross_val_score(reg, x_train, y_train, scoring='r2', cv=5)\n",
    "scoresridge = cross_val_score(ridgeReg, x_train, y_train, scoring='r2', cv=5)\n",
    "scoreslasso = cross_val_score(lassoReg, x_train, y_train, scoring='r2', cv=5)\n",
    "print(\"Linear regression mean r2 score: \"+ str(scoresreg.mean())+\n",
    "    \"\\nRidge regression mean r2 score: \"+ str(scoresridge.mean())+\n",
    "    \"\\nLasso regression mean r2 score: \"+ str(scoreslasso.mean()))"
   ]
  },
  {
   "cell_type": "markdown",
   "metadata": {},
   "source": [
    "Do we need to normalize the dataset when we know that the mean of the features is not zero?"
   ]
  },
  {
   "cell_type": "code",
   "execution_count": 12,
   "metadata": {},
   "outputs": [],
   "source": [
    "y_testReg  = reg.predict(x_test)\n",
    "y_testRidge  = ridgeReg.predict(x_test)\n",
    "y_testLasso  = lassoReg.predict(x_test)"
   ]
  },
  {
   "cell_type": "code",
   "execution_count": 3,
   "metadata": {},
   "outputs": [
    {
     "data": {
      "text/plain": [
       "0.7132899095457167"
      ]
     },
     "execution_count": 3,
     "metadata": {},
     "output_type": "execute_result"
    }
   ],
   "source": [
    "np.save(\"Ytest_Regression_Part1\",y_testReg)"
   ]
  }
 ],
 "metadata": {
  "interpreter": {
   "hash": "7010eaac7a649698cb614f1498704cb43541e040c41288c254b1b379e133eb80"
  },
  "kernelspec": {
   "display_name": "Python 3.8.8 64-bit ('base': conda)",
   "name": "python3"
  },
  "language_info": {
   "codemirror_mode": {
    "name": "ipython",
    "version": 3
   },
   "file_extension": ".py",
   "mimetype": "text/x-python",
   "name": "python",
   "nbconvert_exporter": "python",
   "pygments_lexer": "ipython3",
   "version": "3.8.8"
  },
  "orig_nbformat": 4
 },
 "nbformat": 4,
 "nbformat_minor": 2
}
