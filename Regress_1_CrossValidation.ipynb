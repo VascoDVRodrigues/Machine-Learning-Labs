{
 "cells": [
  {
   "cell_type": "markdown",
   "metadata": {},
   "source": [
    "# Project  Part 1 - Regression\n",
    "## First Problem"
   ]
  },
  {
   "cell_type": "code",
   "execution_count": 49,
   "metadata": {},
   "outputs": [
    {
     "name": "stdout",
     "output_type": "stream",
     "text": [
      "Linear regression MSE score: 0.02308231170738445\n",
      "Ridge regression MSE score: 0.035590472406974646\n",
      "Lasso regression MSE score: 0.2707329360566608\n"
     ]
    }
   ],
   "source": [
    "import numpy as np\n",
    "from sklearn import linear_model\n",
    "from sklearn.model_selection import cross_validate\n",
    "import eval_scores\n",
    "\n",
    "#Load the datasets\n",
    "x_train = np.load(\"./Xtrain_Regression_Part1.npy\")\n",
    "y_train = np.load(\"./Ytrain_Regression_Part1.npy\")\n",
    "x_test = np.load(\"./Xtest_Regression_Part1.npy\")\n",
    "\n",
    "\n",
    "#Train the model with the training datasets\n",
    "reg = linear_model.LinearRegression().fit(x_train, y_train)\n",
    "ridgeReg = linear_model.Ridge().fit(x_train,y_train)\n",
    "lassoReg = linear_model.Lasso(alpha=0.1).fit(x_train,y_train)\n",
    "#Normalize  = True\n",
    "#check the r2 score value for the several models\n",
    "scoresreg = cross_validate(reg, x_train, y_train, cv=5, scoring = \"neg_mean_squared_error\", return_train_score=True)\n",
    "scoresridge = cross_validate(ridgeReg, x_train, y_train, cv=5, scoring = \"neg_mean_squared_error\", return_train_score=True)\n",
    "scoreslasso = cross_validate(lassoReg, x_train, y_train, cv=5, scoring = \"neg_mean_squared_error\", return_train_score=True)\n",
    "\n",
    "print(\"Linear regression MSE score: \" + str(abs(np.min(scoresreg[\"test_score\"]))) + \n",
    "\"\\nRidge regression MSE score: \" + str(abs(np.min(scoresridge[\"test_score\"]))) +\n",
    "\"\\nLasso regression MSE score: \" + str(abs(np.min(scoreslasso[\"test_score\"])) ))\n"
   ]
  },
  {
   "cell_type": "markdown",
   "metadata": {},
   "source": [
    "Do we need to normalize the dataset when we know that the mean of the features is not zero?\n",
    "Quanto mais diminuimos o alpha, melhor o r2 score do lasso"
   ]
  },
  {
   "cell_type": "code",
   "execution_count": 51,
   "metadata": {},
   "outputs": [],
   "source": [
    "#Using the models trained, predict the outcome of the test dataset\n",
    "y_testReg  = reg.predict(x_test)\n",
    "y_testRidge  = ridgeReg.predict(x_test)\n",
    "y_testLasso  = lassoReg.predict(x_test)"
   ]
  },
  {
   "cell_type": "code",
   "execution_count": 52,
   "metadata": {},
   "outputs": [],
   "source": [
    "#Save the outcome on an array to be exported\n",
    "np.save(\"Ytest_Regression_Part1\",y_testReg)"
   ]
  }
 ],
 "metadata": {
  "interpreter": {
   "hash": "5b3b6bd5f33e38b5c74f32698fe5ebdf4497d6892d0b584ca7729cd6435721ce"
  },
  "kernelspec": {
   "display_name": "Python 3.8.8 64-bit ('base': conda)",
   "name": "python3"
  },
  "language_info": {
   "codemirror_mode": {
    "name": "ipython",
    "version": 3
   },
   "file_extension": ".py",
   "mimetype": "text/x-python",
   "name": "python",
   "nbconvert_exporter": "python",
   "pygments_lexer": "ipython3",
   "version": "3.8.8"
  },
  "orig_nbformat": 4
 },
 "nbformat": 4,
 "nbformat_minor": 2
}
