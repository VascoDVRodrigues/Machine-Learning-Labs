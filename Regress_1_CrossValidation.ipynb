{
 "cells": [
  {
   "cell_type": "markdown",
   "metadata": {},
   "source": [
    "# Project  Part 1 - Regression\n",
    "## First Problem"
   ]
  },
  {
   "cell_type": "code",
   "execution_count": 35,
   "metadata": {},
   "outputs": [
    {
     "name": "stdout",
     "output_type": "stream",
     "text": [
      "Linear regression mean r2 score: 0.9988432348405771\n",
      "Ridge regression mean r2 score: 0.9982649981475149\n",
      "Lasso regression mean r2 score: 0.9988380442695861\n"
     ]
    }
   ],
   "source": [
    "import numpy as np\n",
    "from sklearn import linear_model\n",
    "from sklearn.model_selection import cross_val_score\n",
    "\n",
    "#Load the datasets\n",
    "x_train = np.load(\"./Xtrain_Regression_Part1.npy\")\n",
    "y_train = np.load(\"./Ytrain_Regression_Part1.npy\")\n",
    "x_test = np.load(\"./Xtest_Regression_Part1.npy\")\n",
    "\n",
    "\n",
    "#Train the model with the training datasets\n",
    "reg = linear_model.LinearRegression().fit(x_train, y_train)\n",
    "ridgeReg = linear_model.Ridge().fit(x_train,y_train)\n",
    "lassoReg = linear_model.Lasso(alpha=0.1).fit(x_train,y_train)\n",
    "#Normalize  = True\n",
    "#check the r2 score value for the several models\n",
    "scoresreg = cross_val_score(reg, x_train, y_train, cv=5)\n",
    "scoresridge = cross_val_score(ridgeReg, x_train, y_train, cv=5)\n",
    "scoreslasso = cross_val_score(lassoReg, x_train, y_train, cv=5)\n",
    "print(\"Linear regression mean r2 score: \"+ str(scoresreg.mean())+\n",
    "    \"\\nRidge regression mean r2 score: \"+ str(scoresridge.mean())+\n",
    "    \"\\nLasso regression mean r2 score: \"+ str(scoreslasso.mean()))"
   ]
  },
  {
   "cell_type": "markdown",
   "metadata": {},
   "source": [
    "Do we need to normalize the dataset when we know that the mean of the features is not zero?\n",
    "Quanto mais diminuimos o alpha, melhor o r2 score do lasso"
   ]
  },
  {
   "cell_type": "code",
   "execution_count": 36,
   "metadata": {},
   "outputs": [],
   "source": [
    "#Using the models trained, predict the outcome of the test dataset\n",
    "y_testReg  = reg.predict(x_test)\n",
    "y_testRidge  = ridgeReg.predict(x_test)\n",
    "y_testLasso  = lassoReg.predict(x_test)"
   ]
  },
  {
   "cell_type": "code",
   "execution_count": 37,
   "metadata": {},
   "outputs": [],
   "source": [
    "#Save the outcome on an array to be exported\n",
    "np.save(\"Ytest_Regression_Part1\",y_testReg)"
   ]
  }
 ],
 "metadata": {
  "interpreter": {
   "hash": "7010eaac7a649698cb614f1498704cb43541e040c41288c254b1b379e133eb80"
  },
  "kernelspec": {
   "display_name": "Python 3.8.8 64-bit ('base': conda)",
   "name": "python3"
  },
  "language_info": {
   "codemirror_mode": {
    "name": "ipython",
    "version": 3
   },
   "file_extension": ".py",
   "mimetype": "text/x-python",
   "name": "python",
   "nbconvert_exporter": "python",
   "pygments_lexer": "ipython3",
   "version": "3.8.8"
  },
  "orig_nbformat": 4
 },
 "nbformat": 4,
 "nbformat_minor": 2
}
