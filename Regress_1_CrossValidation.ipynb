{
 "cells": [
  {
   "cell_type": "markdown",
   "metadata": {},
   "source": [
    "# Project  Part 1 - Regression\n",
    "## First Problem"
   ]
  },
  {
   "cell_type": "code",
   "execution_count": null,
   "metadata": {},
   "outputs": [],
   "source": [
    "import numpy as np\n",
    "from sklearn import linear_model\n",
    "from sklearn.model_selection import cross_validate\n",
    "\n",
    "#Load the datasets\n",
    "x_train = np.load(\"./Xtrain_Regression_Part1.npy\")\n",
    "y_train = np.load(\"./Ytrain_Regression_Part1.npy\")\n",
    "x_test = np.load(\"./Xtest_Regression_Part1.npy\")\n",
    "\n",
    "\n",
    "#Train the model with the training datasets\n",
    "reg = linear_model.LinearRegression().fit(x_train, y_train)\n",
    "ridgeReg = linear_model.Ridge().fit(x_train,y_train)\n",
    "lassoReg = linear_model.Lasso(alpha=0.003).fit(x_train,y_train)\n",
    "#Normalize  = True\n",
    "#check the r2 score value for the several models\n",
    "scoresreg = cross_validate(reg, x_train, y_train, cv=5, scoring = \"neg_mean_squared_error\", return_train_score=True)\n",
    "scoresridge = cross_validate(ridgeReg, x_train, y_train, cv=5, scoring = \"neg_mean_squared_error\", return_train_score=True)\n",
    "scoreslasso = cross_validate(lassoReg, x_train, y_train, cv=5, scoring = \"neg_mean_squared_error\", return_train_score=True)\n",
    "\n",
    "print(\"Linear regression MSE score: \" + str(abs(np.min(scoresreg[\"test_score\"]))) + \n",
    "\"\\nRidge regression MSE score: \" + str(abs(np.min(scoresridge[\"test_score\"]))) +\n",
    "\"\\nLasso regression MSE score: \" + str(abs(np.min(scoreslasso[\"test_score\"])) ))\n",
    "\n"
   ]
  },
  {
   "cell_type": "markdown",
   "metadata": {},
   "source": [
    "Do we need to normalize the dataset when we know that the mean of the features is not zero?\n",
    "Quanto mais diminuimos o alpha, melhor o r2 score do lasso\n",
    "Check evolution of coef with change of alpha"
   ]
  },
  {
   "cell_type": "code",
   "execution_count": null,
   "metadata": {},
   "outputs": [],
   "source": [
    "#Using the models trained, predict the outcome of the test dataset\n",
    "y_testReg  = reg.predict(x_test)\n",
    "y_testRidge  = ridgeReg.predict(x_test)\n",
    "y_testLasso  = lassoReg.predict(x_test)"
   ]
  },
  {
   "cell_type": "code",
   "execution_count": null,
   "metadata": {},
   "outputs": [],
   "source": [
    "alpha_prime = [0.1 , 0.05, 0.02, 0.01 , 0.005, 0.002, 0.001, 0.0005, 0.0002, 0.0001, 0.00005, 0.00002, 0.00001]\n",
    "k = [5, 10, 20, 50]\n",
    "for alpha in alpha_prime:\n",
    "    #for k_val in k:\n",
    "    lasso = linear_model.Lasso(alpha=alpha).fit(x_train,y_train)\n",
    "    scores = cross_validate(lasso, x_train, y_train, cv=5, scoring = \"neg_mean_squared_error\", return_train_score=True)\n",
    "    print(\"LR MSE score: \" + str(np.max(abs(scores[\"test_score\"]))) + \" for alpha \" + str(alpha) + \"and k \" + str(5))\n"
   ]
  },
  {
   "cell_type": "code",
   "execution_count": null,
   "metadata": {},
   "outputs": [],
   "source": [
    "k = [5, 10, 20, 50]\n",
    "for alpha in range(1,11):\n",
    "    #for k_val in k:\n",
    "    lasso = linear_model.Lasso(alpha=alpha*0.001).fit(x_train,y_train)\n",
    "    print(\"for alpha \" + str(alpha*0.001) + \"\\n\")\n",
    "    print(lasso.coef_)\n",
    "    scores = cross_validate(lasso, x_train, y_train, cv=5, scoring = \"neg_mean_squared_error\", return_train_score=True)\n",
    "    #print(\"LR MSE score: \" + str(np.max(abs(scores[\"test_score\"]))) + \" for alpha \" + str(alpha*0.001) + \"and k \" + str(5))"
   ]
  },
  {
   "cell_type": "code",
   "execution_count": null,
   "metadata": {},
   "outputs": [],
   "source": [
    "y_testLasso"
   ]
  },
  {
   "cell_type": "code",
   "execution_count": null,
   "metadata": {},
   "outputs": [],
   "source": [
    "#Save the outcome on an array to be exported\n",
    "np.save(\"Ytest_Regression_Part1\",y_testLasso)"
   ]
  }
 ],
 "metadata": {
  "interpreter": {
   "hash": "7010eaac7a649698cb614f1498704cb43541e040c41288c254b1b379e133eb80"
  },
  "kernelspec": {
   "display_name": "Python 3.8.8 64-bit ('base': conda)",
   "name": "python3"
  },
  "language_info": {
   "codemirror_mode": {
    "name": "ipython",
    "version": 3
   },
   "file_extension": ".py",
   "mimetype": "text/x-python",
   "name": "python",
   "nbconvert_exporter": "python",
   "pygments_lexer": "ipython3",
   "version": "3.8.8"
  },
  "orig_nbformat": 4
 },
 "nbformat": 4,
 "nbformat_minor": 2
}
