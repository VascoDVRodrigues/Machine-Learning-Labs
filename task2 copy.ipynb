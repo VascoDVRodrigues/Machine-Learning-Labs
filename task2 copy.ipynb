{
 "cells": [
  {
   "cell_type": "code",
   "execution_count": 159,
   "metadata": {},
   "outputs": [],
   "source": [
    "import numpy as np\n",
    "from sklearn import linear_model\n",
    "from sklearn.model_selection import cross_validate\n",
    "from sklearn.neighbors import LocalOutlierFactor\n",
    "\n"
   ]
  },
  {
   "cell_type": "code",
   "execution_count": 160,
   "metadata": {},
   "outputs": [],
   "source": [
    "x_train = np.load(\"./Xtrain_Regression_Part2.npy\")\n",
    "y_train = np.load(\"./Ytrain_Regression_Part2.npy\")"
   ]
  },
  {
   "cell_type": "code",
   "execution_count": 161,
   "metadata": {},
   "outputs": [
    {
     "name": "stdout",
     "output_type": "stream",
     "text": [
      "Lasso regression MSE score: 2.2145553655104244\n"
     ]
    }
   ],
   "source": [
    "hubberReg = linear_model.HuberRegressor(alpha=0.0, epsilon=10).fit(x_train,y_train.ravel())\n",
    "scoreshubber = cross_validate(hubberReg, x_train, y_train.ravel(), cv=5, scoring = \"neg_mean_squared_error\", return_train_score=True)\n",
    "print(\"Lasso regression MSE score: \" + str(abs(np.average(scoreshubber[\"test_score\"])) ))"
   ]
  },
  {
   "cell_type": "code",
   "execution_count": 162,
   "metadata": {},
   "outputs": [],
   "source": [
    "n_neighbours = 1\n",
    "popper =  []"
   ]
  },
  {
   "cell_type": "code",
   "execution_count": 163,
   "metadata": {},
   "outputs": [],
   "source": [
    "clf = LocalOutlierFactor(n_neighbors=n_neighbours)\n",
    "\n",
    "for i in range(clf.fit_predict(x_train).size):\n",
    "    if clf.fit_predict(x_train)[i] == -1:\n",
    "        popper.append(i)"
   ]
  },
  {
   "cell_type": "code",
   "execution_count": 164,
   "metadata": {},
   "outputs": [],
   "source": [
    "popper = popper[::-1]\n",
    "x_train1 = np.copy(x_train)\n",
    "y_train1 = np.copy(y_train)\n",
    "for i in popper:\n",
    "    x_train1 = np.delete(x_train1, i, axis = 0)\n",
    "    y_train1 = np.delete(y_train1, i, axis = 0)\n"
   ]
  },
  {
   "cell_type": "code",
   "execution_count": 165,
   "metadata": {},
   "outputs": [
    {
     "name": "stdout",
     "output_type": "stream",
     "text": [
      "Lasso regression MSE score: 0.8173423644157364\n"
     ]
    }
   ],
   "source": [
    "hubberReg1 = linear_model.HuberRegressor(alpha=0.0, epsilon=10).fit(x_train1,y_train1.ravel())\n",
    "scoreshubber = cross_validate(hubberReg1, x_train1, y_train1.ravel(), cv=5, scoring = \"neg_mean_squared_error\", return_train_score=True)\n",
    "print(\"Lasso regression MSE score: \" + str(abs(np.average(scoreshubber[\"test_score\"])) ))"
   ]
  },
  {
   "cell_type": "code",
   "execution_count": 166,
   "metadata": {},
   "outputs": [
    {
     "name": "stdout",
     "output_type": "stream",
     "text": [
      "Lasso regression MSE score: 0.7841334268114208\n"
     ]
    }
   ],
   "source": [
    "lassoReg1 = linear_model.Lasso(alpha=0.02).fit(x_train1,y_train1)\n",
    "scoreslasso1 = cross_validate(lassoReg1, x_train1, y_train1, cv=5, scoring = \"neg_mean_squared_error\", return_train_score=True)\n",
    "print(\"Lasso regression MSE score: \" + str(abs(np.average(scoreslasso1[\"test_score\"])) ))"
   ]
  },
  {
   "cell_type": "code",
   "execution_count": 167,
   "metadata": {},
   "outputs": [
    {
     "name": "stdout",
     "output_type": "stream",
     "text": [
      "Linear regression MSE score: 0.8173466023743753\n"
     ]
    }
   ],
   "source": [
    "linearReg = linear_model.LinearRegression().fit(x_train1,y_train1)\n",
    "scoreslasso1 = cross_validate(linearReg, x_train1, y_train1, cv=5, scoring = \"neg_mean_squared_error\", return_train_score=True)\n",
    "print(\"Linear regression MSE score: \" + str(abs(np.average(scoreslasso1[\"test_score\"])) ))"
   ]
  }
 ],
 "metadata": {
  "interpreter": {
   "hash": "7010eaac7a649698cb614f1498704cb43541e040c41288c254b1b379e133eb80"
  },
  "kernelspec": {
   "display_name": "Python 3.8.8 64-bit ('base': conda)",
   "name": "python3"
  },
  "language_info": {
   "codemirror_mode": {
    "name": "ipython",
    "version": 3
   },
   "file_extension": ".py",
   "mimetype": "text/x-python",
   "name": "python",
   "nbconvert_exporter": "python",
   "pygments_lexer": "ipython3",
   "version": "3.8.8"
  },
  "orig_nbformat": 4
 },
 "nbformat": 4,
 "nbformat_minor": 2
}
