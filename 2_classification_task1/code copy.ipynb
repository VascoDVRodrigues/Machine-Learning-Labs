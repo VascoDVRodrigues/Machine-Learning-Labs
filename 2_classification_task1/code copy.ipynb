{
 "cells": [
  {
   "cell_type": "code",
   "execution_count": 65,
   "metadata": {},
   "outputs": [],
   "source": [
    "import numpy as np\n",
    "import matplotlib.pyplot as plt\n",
    "import tensorflow as tf\n",
    "from keras.models import Sequential\n",
    "from keras.layers import Dense, Dropout, Flatten\n",
    "from keras.layers import Conv2D, MaxPooling2D\n",
    "from keras.layers.normalization import BatchNormalization\n",
    "from keras.layers.advanced_activations import LeakyReLU\n",
    "from keras.utils import to_categorical\n",
    "from keras.callbacks import EarlyStopping\n",
    "from sklearn.model_selection import train_test_split\n",
    "import keras\n",
    "import time\n"
   ]
  },
  {
   "cell_type": "code",
   "execution_count": 66,
   "metadata": {},
   "outputs": [],
   "source": [
    "x_train = np.load(\"./Xtrain_Classification_Part1.npy\")\n",
    "y_train = np.load(\"./Ytrain_Classification_Part1.npy\")\n",
    "x_test = np.load(\"./Xtest_Classification_Part1.npy\")"
   ]
  },
  {
   "cell_type": "code",
   "execution_count": 67,
   "metadata": {},
   "outputs": [],
   "source": [
    "y_test = np.load(\"./Ytest_parsed.npy\")\n",
    "test_Y_one_hot = to_categorical(y_test)"
   ]
  },
  {
   "cell_type": "code",
   "execution_count": 68,
   "metadata": {},
   "outputs": [],
   "source": [
    "x_train_reshaped = x_train.reshape((x_train.shape[0],50,50))\n",
    "x_test_reshaped = x_test.reshape((x_test.shape[0],50,50))\n",
    "\n",
    "x_train_reshaped = x_train_reshaped.reshape(-1, 50,50, 1)\n",
    "x_test_reshaped = x_test_reshaped.reshape(-1, 50,50, 1)\n",
    "\n",
    "x_train_reshaped = x_train_reshaped.astype('float32')\n",
    "x_test_reshaped = x_test_reshaped.astype('float32')"
   ]
  },
  {
   "cell_type": "code",
   "execution_count": 69,
   "metadata": {},
   "outputs": [],
   "source": [
    "x_train_reshaped = x_train_reshaped/255\n",
    "x_test_reshaped = x_test_reshaped/255"
   ]
  },
  {
   "cell_type": "code",
   "execution_count": 70,
   "metadata": {},
   "outputs": [],
   "source": [
    "train_Y_one_hot = to_categorical(y_train)"
   ]
  },
  {
   "cell_type": "code",
   "execution_count": 71,
   "metadata": {},
   "outputs": [],
   "source": [
    "#train_X,valid_X,train_label,valid_label = train_test_split(x_train_reshaped, train_Y_one_hot, test_size=0.2, random_state=13)\n"
   ]
  },
  {
   "cell_type": "code",
   "execution_count": 72,
   "metadata": {},
   "outputs": [],
   "source": [
    "#train_X.shape,valid_X.shape,train_label.shape,valid_label.shape\n"
   ]
  },
  {
   "cell_type": "code",
   "execution_count": 73,
   "metadata": {},
   "outputs": [],
   "source": [
    "batch_size = 64\n",
    "epochs = 25\n",
    "num_classes = 2"
   ]
  },
  {
   "cell_type": "code",
   "execution_count": 74,
   "metadata": {},
   "outputs": [],
   "source": [
    "callback = EarlyStopping(monitor='val_accuracy', patience=8, mode=\"max\" ,restore_best_weights=True)"
   ]
  },
  {
   "cell_type": "code",
   "execution_count": 75,
   "metadata": {},
   "outputs": [],
   "source": [
    "model = Sequential()\n",
    "model.add(Conv2D(32, kernel_size=(3, 3),activation='relu',padding='same',input_shape=(50,50,1)))\n",
    "#model.add(LeakyReLU(alpha=0.1))\n",
    "model.add(MaxPooling2D((2, 2),padding='same'))\n",
    "model.add(Dropout(0.2))\n",
    "model.add(Conv2D(64, (3, 3), activation='relu',padding='same'))\n",
    "#model.add(LeakyReLU(alpha=0.1))\n",
    "model.add(MaxPooling2D(pool_size=(2, 2),padding='same'))\n",
    "model.add(Dropout(0.2))\n",
    "model.add(Conv2D(128, (3, 3), activation='relu',padding='same'))\n",
    "#model.add(LeakyReLU(alpha=0.1))   \n",
    "model.add(MaxPooling2D(pool_size=(2, 2),padding='same'))\n",
    "model.add(Dropout(0.2))\n",
    "model.add(Flatten())\n",
    "model.add(Dense(128, activation='relu'))\n",
    "#model.add(LeakyReLU(alpha=0.1))\n",
    "model.add(Dropout(0.2))\n",
    "model.add(Dense(num_classes, activation='softmax'))"
   ]
  },
  {
   "cell_type": "code",
   "execution_count": 76,
   "metadata": {},
   "outputs": [],
   "source": [
    "model.compile(loss=keras.losses.categorical_crossentropy, optimizer=keras.optimizers.Adam(),metrics=['accuracy'])\n"
   ]
  },
  {
   "cell_type": "code",
   "execution_count": 77,
   "metadata": {},
   "outputs": [
    {
     "name": "stdout",
     "output_type": "stream",
     "text": [
      "Epoch 1/25\n",
      "19/19 [==============================] - 6s 318ms/step - loss: 0.7226 - accuracy: 0.5430 - val_loss: 0.6900 - val_accuracy: 0.4871\n",
      "Epoch 2/25\n",
      "19/19 [==============================] - 6s 298ms/step - loss: 0.6502 - accuracy: 0.6229 - val_loss: 0.6079 - val_accuracy: 0.6572\n",
      "Epoch 3/25\n",
      "19/19 [==============================] - 5s 258ms/step - loss: 0.6406 - accuracy: 0.6409 - val_loss: 0.6340 - val_accuracy: 0.6649\n",
      "Epoch 4/25\n",
      "19/19 [==============================] - 5s 250ms/step - loss: 0.6120 - accuracy: 0.6572 - val_loss: 0.6139 - val_accuracy: 0.6744\n",
      "Epoch 5/25\n",
      "19/19 [==============================] - 5s 256ms/step - loss: 0.6032 - accuracy: 0.6753 - val_loss: 0.6012 - val_accuracy: 0.6624\n",
      "Epoch 6/25\n",
      "19/19 [==============================] - 5s 253ms/step - loss: 0.6034 - accuracy: 0.6641 - val_loss: 0.5853 - val_accuracy: 0.6916\n",
      "Epoch 7/25\n",
      "19/19 [==============================] - 5s 256ms/step - loss: 0.5834 - accuracy: 0.6924 - val_loss: 0.5733 - val_accuracy: 0.7088\n",
      "Epoch 8/25\n",
      "19/19 [==============================] - 5s 257ms/step - loss: 0.5689 - accuracy: 0.6950 - val_loss: 0.5410 - val_accuracy: 0.7285\n",
      "Epoch 9/25\n",
      "19/19 [==============================] - 5s 253ms/step - loss: 0.5449 - accuracy: 0.7191 - val_loss: 0.5344 - val_accuracy: 0.7337\n",
      "Epoch 10/25\n",
      "19/19 [==============================] - 5s 284ms/step - loss: 0.5529 - accuracy: 0.7302 - val_loss: 0.5106 - val_accuracy: 0.7577\n",
      "Epoch 11/25\n",
      "19/19 [==============================] - 6s 303ms/step - loss: 0.5230 - accuracy: 0.7500 - val_loss: 0.4894 - val_accuracy: 0.7698\n",
      "Epoch 12/25\n",
      "19/19 [==============================] - 5s 248ms/step - loss: 0.4937 - accuracy: 0.7534 - val_loss: 0.4430 - val_accuracy: 0.7912\n",
      "Epoch 13/25\n",
      "19/19 [==============================] - 6s 295ms/step - loss: 0.4638 - accuracy: 0.7826 - val_loss: 0.4077 - val_accuracy: 0.7990\n",
      "Epoch 14/25\n",
      "19/19 [==============================] - 5s 279ms/step - loss: 0.4508 - accuracy: 0.7809 - val_loss: 0.4150 - val_accuracy: 0.8067\n",
      "Epoch 15/25\n",
      "19/19 [==============================] - 5s 248ms/step - loss: 0.4421 - accuracy: 0.7852 - val_loss: 0.3704 - val_accuracy: 0.8393\n",
      "Epoch 16/25\n",
      "19/19 [==============================] - 5s 246ms/step - loss: 0.4209 - accuracy: 0.7947 - val_loss: 0.3830 - val_accuracy: 0.8265\n",
      "Epoch 17/25\n",
      "19/19 [==============================] - 5s 264ms/step - loss: 0.4076 - accuracy: 0.8170 - val_loss: 0.3612 - val_accuracy: 0.8591\n",
      "Epoch 18/25\n",
      "19/19 [==============================] - 6s 297ms/step - loss: 0.3535 - accuracy: 0.8471 - val_loss: 0.2933 - val_accuracy: 0.8703\n",
      "Epoch 19/25\n",
      "19/19 [==============================] - 5s 288ms/step - loss: 0.3440 - accuracy: 0.8497 - val_loss: 0.2727 - val_accuracy: 0.8892\n",
      "Epoch 20/25\n",
      "19/19 [==============================] - 6s 301ms/step - loss: 0.3244 - accuracy: 0.8574 - val_loss: 0.2478 - val_accuracy: 0.8995\n",
      "Epoch 21/25\n",
      "19/19 [==============================] - 5s 246ms/step - loss: 0.2833 - accuracy: 0.8840 - val_loss: 0.2704 - val_accuracy: 0.8866\n",
      "Epoch 22/25\n",
      "19/19 [==============================] - 6s 299ms/step - loss: 0.3072 - accuracy: 0.8677 - val_loss: 0.2380 - val_accuracy: 0.9012\n",
      "Epoch 23/25\n",
      "19/19 [==============================] - 5s 283ms/step - loss: 0.2764 - accuracy: 0.8754 - val_loss: 0.2187 - val_accuracy: 0.9149\n",
      "Epoch 24/25\n",
      "19/19 [==============================] - 5s 272ms/step - loss: 0.2570 - accuracy: 0.8857 - val_loss: 0.1898 - val_accuracy: 0.9356\n",
      "Epoch 25/25\n",
      "19/19 [==============================] - 5s 270ms/step - loss: 0.2246 - accuracy: 0.9089 - val_loss: 0.1497 - val_accuracy: 0.9536\n"
     ]
    }
   ],
   "source": [
    "#model_train = model.fit(x_train_reshaped, train_Y_one_hot,validation_split=0.1, shuffle=True, batch_size=batch_size,epochs=epochs,callbacks=[callback],verbose=1)\n",
    "model_train = model.fit(x_test_reshaped, test_Y_one_hot, batch_size=batch_size,epochs=epochs,verbose=1,validation_data=(x_test_reshaped, test_Y_one_hot),callbacks=[callback])"
   ]
  },
  {
   "cell_type": "code",
   "execution_count": 78,
   "metadata": {},
   "outputs": [],
   "source": [
    "y_test_predicted = model.predict(x_test_reshaped)"
   ]
  },
  {
   "cell_type": "code",
   "execution_count": 79,
   "metadata": {},
   "outputs": [
    {
     "data": {
      "text/plain": [
       "[<matplotlib.lines.Line2D at 0x2c7926d4940>]"
      ]
     },
     "execution_count": 79,
     "metadata": {},
     "output_type": "execute_result"
    },
    {
     "data": {
      "image/png": "[encoded data removed]",
      "text/plain": [
       "<Figure size 432x288 with 1 Axes>"
      ]
     },
     "metadata": {
      "needs_background": "light"
     },
     "output_type": "display_data"
    }
   ],
   "source": [
    "plt.plot(model_train.history[\"val_loss\"])"
   ]
  },
  {
   "cell_type": "code",
   "execution_count": 80,
   "metadata": {},
   "outputs": [
    {
     "data": {
      "text/plain": [
       "0.8591065406799316"
      ]
     },
     "execution_count": 80,
     "metadata": {},
     "output_type": "execute_result"
    }
   ],
   "source": [
    "model_train.history[\"val_accuracy\"][-9]\n",
    "\n"
   ]
  },
  {
   "cell_type": "code",
   "execution_count": 81,
   "metadata": {},
   "outputs": [
    {
     "name": "stdout",
     "output_type": "stream",
     "text": [
      "1110/1164\n",
      "95.36082474226805\n"
     ]
    }
   ],
   "source": [
    "k=0\n",
    "for i in range(y_test.shape[0]):\n",
    "    if np.argmax(y_test_predicted[i])==0:\n",
    "        if(y_test[i]==0):\n",
    "            k+=1\n",
    "    else:\n",
    "        if(y_test[i]==1):\n",
    "            k+=1\n",
    "print(str(k)+\"/\"+str(y_test.shape[0]))\n",
    "print(str(k/y_test.shape[0]*100))\n"
   ]
  },
  {
   "cell_type": "code",
   "execution_count": 82,
   "metadata": {},
   "outputs": [],
   "source": [
    "#for i in range(y_test.shape[0]):\n",
    "#    if np.argmax(y_test_predicted[i])==0:\n",
    "#        print(\"male\")\n",
    "#    else:\n",
    "#        print(\"female\")\n",
    "#    plt.imshow(x_test_reshaped[i])#,cmap=\"Greys\"\n",
    "#    plt.show()\n"
   ]
  },
  {
   "cell_type": "code",
   "execution_count": 83,
   "metadata": {},
   "outputs": [],
   "source": [
    "predictor= np.array([])\n",
    "b = \"%.2f\" % round(model_train.history[\"val_accuracy\"][-9]*100,2)\n",
    "for i in range(y_test_predicted.shape[0]):\n",
    "    predictor = np.append(predictor,np.argmax(y_test_predicted[i]))\n",
    "\n",
    "np.save(\"Ytest_Classification_\" + str(b)+\".npy\",predictor)\n",
    "    "
   ]
  },
  {
   "cell_type": "markdown",
   "metadata": {},
   "source": [
    "## submit vector of labels(1 or 0)\n",
    "## search other options (classifiers) besides cnn and mlp \n",
    "### (try svm, hyperparameters linear svm - C look at the weight vector (eye region and mouth weights will influence on the ethnicity and gender classification), nonlinear svm - C,gamma(rbf))\n"
   ]
  }
 ],
 "metadata": {
  "interpreter": {
   "hash": "7010eaac7a649698cb614f1498704cb43541e040c41288c254b1b379e133eb80"
  },
  "kernelspec": {
   "display_name": "Python 3.8.8 64-bit ('base': conda)",
   "name": "python3"
  },
  "language_info": {
   "codemirror_mode": {
    "name": "ipython",
    "version": 3
   },
   "file_extension": ".py",
   "mimetype": "text/x-python",
   "name": "python",
   "nbconvert_exporter": "python",
   "pygments_lexer": "ipython3",
   "version": "3.8.8"
  },
  "orig_nbformat": 4
 },
 "nbformat": 4,
 "nbformat_minor": 2
}
