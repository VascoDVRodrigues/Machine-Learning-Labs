{
 "cells": [
  {
   "cell_type": "code",
   "execution_count": 46,
   "source": [
    "import numpy as np\r\n",
    "from sklearn import linear_model\r\n",
    "from sklearn.metrics import mean_squared_error, r2_score"
   ],
   "outputs": [],
   "metadata": {}
  },
  {
   "cell_type": "code",
   "execution_count": 47,
   "source": [
    "x_train = np.load(\"./Xtrain_Regression_Part1.npy\")\r\n",
    "y_train = np.load(\"./Ytrain_Regression_Part1.npy\")\r\n",
    "x_test = np.load(\"./Xtest_Regression_Part1.npy\")"
   ],
   "outputs": [],
   "metadata": {}
  },
  {
   "cell_type": "code",
   "execution_count": 48,
   "source": [
    "reg = linear_model.LinearRegression()\r\n"
   ],
   "outputs": [],
   "metadata": {}
  },
  {
   "cell_type": "code",
   "execution_count": 49,
   "source": [
    "x_train1 = x_train[10:]\r\n",
    "x_eval1 = x_train[0:10]\r\n",
    "\r\n",
    "y_train1 = y_train[10:]\r\n",
    "y_eval1 = y_train[0:10]\r\n",
    "\r\n",
    "reg.fit(x_train1, y_train1)\r\n",
    "y_eval = reg.predict(x_eval1)\r\n",
    "\r\n",
    "r2_score(y_eval,y_eval1)\r\n"
   ],
   "outputs": [
    {
     "output_type": "execute_result",
     "data": {
      "text/plain": [
       "0.9995537866886705"
      ]
     },
     "metadata": {},
     "execution_count": 49
    }
   ],
   "metadata": {}
  },
  {
   "cell_type": "code",
   "execution_count": 50,
   "source": [
    "y_test  = reg.predict(x_test)\r\n",
    "np.save(\"Ytest_Regression_Part1\",y_test)"
   ],
   "outputs": [],
   "metadata": {}
  }
 ],
 "metadata": {
  "orig_nbformat": 4,
  "language_info": {
   "name": "python",
   "version": "3.8.8",
   "mimetype": "text/x-python",
   "codemirror_mode": {
    "name": "ipython",
    "version": 3
   },
   "pygments_lexer": "ipython3",
   "nbconvert_exporter": "python",
   "file_extension": ".py"
  },
  "kernelspec": {
   "name": "python3",
   "display_name": "Python 3.8.8 64-bit ('base': conda)"
  },
  "interpreter": {
   "hash": "7010eaac7a649698cb614f1498704cb43541e040c41288c254b1b379e133eb80"
  }
 },
 "nbformat": 4,
 "nbformat_minor": 2
}