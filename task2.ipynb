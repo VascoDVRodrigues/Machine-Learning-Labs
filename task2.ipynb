{
 "cells": [
  {
   "cell_type": "code",
   "execution_count": 60,
   "metadata": {},
   "outputs": [],
   "source": [
    "import numpy as np\n",
    "from sklearn import linear_model\n",
    "from sklearn.model_selection import cross_validate\n"
   ]
  },
  {
   "cell_type": "code",
   "execution_count": 61,
   "metadata": {},
   "outputs": [],
   "source": [
    "x_train = np.load(\"./Xtrain_Regression_Part2.npy\")\n",
    "y_train = np.load(\"./Ytrain_Regression_Part2.npy\")\n",
    "\n",
    "lassoReg = linear_model.Lasso(alpha=0.002).fit(x_train,y_train)\n",
    "y_testLasso  = lassoReg.predict(x_train)"
   ]
  },
  {
   "cell_type": "code",
   "execution_count": 62,
   "metadata": {},
   "outputs": [],
   "source": [
    "y_train = y_train.reshape(-1)\n",
    "popper = []\n",
    "diff = y_train - y_testLasso\n",
    "diff = diff * diff\n",
    "for i in range(diff.size):\n",
    "    if diff[i] >0.82:\n",
    "        popper.append(i)\n",
    "popper = popper[::-1]\n",
    "x_train1 = np.copy(x_train)\n",
    "y_train1 = np.copy(y_train)\n",
    "for i in popper:\n",
    "    x_train1 = np.delete(x_train1, i, axis = 0)\n",
    "    y_train1 = np.delete(y_train1, i, axis = 0)\n"
   ]
  },
  {
   "cell_type": "code",
   "execution_count": 63,
   "metadata": {},
   "outputs": [],
   "source": [
    "lassoReg1 = linear_model.Lasso(alpha=0.002).fit(x_train1,y_train1)"
   ]
  },
  {
   "cell_type": "code",
   "execution_count": 65,
   "metadata": {},
   "outputs": [
    {
     "data": {
      "text/plain": [
       "array([ 0.91543733, -0.08131072, -0.20425774,  0.08154699, -1.2261741 ,\n",
       "       -0.74426591, -0.03381401,  0.01928293,  1.14307866, -0.02731411,\n",
       "       -0.05481209,  1.37561811,  0.11092323, -0.01242896,  0.28008448,\n",
       "        0.45007572,  0.5996428 , -0.3750698 ,  0.72436542,  0.45225788])"
      ]
     },
     "execution_count": 65,
     "metadata": {},
     "output_type": "execute_result"
    }
   ],
   "source": [
    "lassoReg.coef_\n"
   ]
  },
  {
   "cell_type": "code",
   "execution_count": 66,
   "metadata": {},
   "outputs": [
    {
     "data": {
      "text/plain": [
       "array([ 0.97446753, -0.24812668, -0.52260466,  0.0163353 , -1.36401262,\n",
       "       -0.69980692,  0.00909394,  0.00250181,  0.99045495, -0.0084897 ,\n",
       "       -0.03791077,  1.37633153, -0.02659431,  0.09660232,  0.24352817,\n",
       "        0.41877389,  0.63959306, -0.16416863,  0.80468459,  0.42443634])"
      ]
     },
     "execution_count": 66,
     "metadata": {},
     "output_type": "execute_result"
    }
   ],
   "source": [
    "lassoReg1.coef_"
   ]
  },
  {
   "cell_type": "code",
   "execution_count": 64,
   "metadata": {},
   "outputs": [
    {
     "name": "stdout",
     "output_type": "stream",
     "text": [
      "Lasso regression MSE score: 2.2046268191861875\n",
      "Lasso regression MSE score without outliers: 2.2046268191861875\n"
     ]
    }
   ],
   "source": [
    "scoreslasso = cross_validate(lassoReg, x_train, y_train, cv=5, scoring = \"neg_mean_squared_error\", return_train_score=True)\n",
    "\n",
    "print(\"Lasso regression MSE score: \" + str(abs(np.average(scoreslasso[\"test_score\"]))))\n",
    "\n",
    "scoreslasso1 = cross_validate(lassoReg1, x_train, y_train, cv=5, scoring = \"neg_mean_squared_error\", return_train_score=True)\n",
    "\n",
    "print(\"Lasso regression MSE score without outliers: \" + str(abs(np.average(scoreslasso1[\"test_score\"]))))"
   ]
  }
 ],
 "metadata": {
  "interpreter": {
   "hash": "7010eaac7a649698cb614f1498704cb43541e040c41288c254b1b379e133eb80"
  },
  "kernelspec": {
   "display_name": "Python 3.8.8 64-bit ('base': conda)",
   "name": "python3"
  },
  "language_info": {
   "codemirror_mode": {
    "name": "ipython",
    "version": 3
   },
   "file_extension": ".py",
   "mimetype": "text/x-python",
   "name": "python",
   "nbconvert_exporter": "python",
   "pygments_lexer": "ipython3",
   "version": "3.8.8"
  },
  "orig_nbformat": 4
 },
 "nbformat": 4,
 "nbformat_minor": 2
}
