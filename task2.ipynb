{
 "cells": [
  {
   "cell_type": "code",
   "execution_count": 341,
   "metadata": {},
   "outputs": [],
   "source": [
    "import numpy as np\n",
    "from sklearn import linear_model\n",
    "from sklearn.model_selection import cross_validate\n"
   ]
  },
  {
   "cell_type": "code",
   "execution_count": 342,
   "metadata": {},
   "outputs": [],
   "source": [
    "x_train = np.load(\"./Xtrain_Regression_Part2.npy\")\n",
    "y_train = np.load(\"./Ytrain_Regression_Part2.npy\")\n",
    "\n"
   ]
  },
  {
   "cell_type": "code",
   "execution_count": 343,
   "metadata": {},
   "outputs": [
    {
     "data": {
      "text/plain": [
       "(100, 1)"
      ]
     },
     "execution_count": 343,
     "metadata": {},
     "output_type": "execute_result"
    }
   ],
   "source": [
    "y_train.shape"
   ]
  },
  {
   "cell_type": "code",
   "execution_count": 344,
   "metadata": {},
   "outputs": [],
   "source": [
    "hubberReg = linear_model.HuberRegressor(alpha=0.0, epsilon=10).fit(x_train,y_train.ravel())\n",
    "lassoReg = linear_model.Lasso(alpha=0.002).fit(x_train,y_train)\n",
    "y_testLasso  = hubberReg.predict(x_train)"
   ]
  },
  {
   "cell_type": "code",
   "execution_count": 345,
   "metadata": {},
   "outputs": [],
   "source": [
    "y_train = y_train.reshape(-1)\n",
    "popper = []\n",
    "diff = y_train - y_testLasso\n",
    "diff = diff * diff\n",
    "for i in range(diff.size):\n",
    "    if diff[i] >0.9:\n",
    "        popper.append(i)\n",
    "popper = popper[::-1]\n",
    "x_train1 = np.copy(x_train)\n",
    "y_train1 = np.copy(y_train)\n",
    "for i in popper:\n",
    "    x_train1 = np.delete(x_train1, i, axis = 0)\n",
    "    y_train1 = np.delete(y_train1, i, axis = 0)\n"
   ]
  },
  {
   "cell_type": "code",
   "execution_count": 346,
   "metadata": {},
   "outputs": [
    {
     "data": {
      "text/plain": [
       "[97, 96, 92, 85, 78, 45, 36, 21, 2]"
      ]
     },
     "execution_count": 346,
     "metadata": {},
     "output_type": "execute_result"
    }
   ],
   "source": [
    "popper"
   ]
  },
  {
   "cell_type": "code",
   "execution_count": 347,
   "metadata": {},
   "outputs": [],
   "source": [
    "lassoReg1 = linear_model.Lasso(alpha=0.002).fit(x_train1,y_train1)"
   ]
  },
  {
   "cell_type": "code",
   "execution_count": 348,
   "metadata": {},
   "outputs": [
    {
     "data": {
      "text/plain": [
       "array([ 0.91543733, -0.08131072, -0.20425774,  0.08154699, -1.2261741 ,\n",
       "       -0.74426591, -0.03381401,  0.01928293,  1.14307866, -0.02731411,\n",
       "       -0.05481209,  1.37561811,  0.11092323, -0.01242896,  0.28008448,\n",
       "        0.45007572,  0.5996428 , -0.3750698 ,  0.72436542,  0.45225788])"
      ]
     },
     "execution_count": 348,
     "metadata": {},
     "output_type": "execute_result"
    }
   ],
   "source": [
    "lassoReg.coef_"
   ]
  },
  {
   "cell_type": "code",
   "execution_count": 349,
   "metadata": {},
   "outputs": [
    {
     "data": {
      "text/plain": [
       "array([ 0.97562201, -0.25097856, -0.52611979,  0.01831511, -1.36321729,\n",
       "       -0.70416981,  0.01144385,  0.00145656,  0.98767728, -0.00856836,\n",
       "       -0.03655778,  1.3763835 , -0.02536167,  0.09541334,  0.2439459 ,\n",
       "        0.41896537,  0.6415001 , -0.16293511,  0.80631981,  0.42555384])"
      ]
     },
     "execution_count": 349,
     "metadata": {},
     "output_type": "execute_result"
    }
   ],
   "source": [
    "lassoReg1.coef_"
   ]
  },
  {
   "cell_type": "code",
   "execution_count": 350,
   "metadata": {},
   "outputs": [
    {
     "name": "stdout",
     "output_type": "stream",
     "text": [
      "Lasso regression MSE score: 0.01421142536853442\n"
     ]
    }
   ],
   "source": [
    "scoreslasso1 = cross_validate(lassoReg1, x_train1, y_train1, cv=5, scoring = \"neg_mean_squared_error\", return_train_score=True)\n",
    "print(\"Lasso regression MSE score: \" + str(abs(np.average(scoreslasso1[\"test_score\"])) ))\n"
   ]
  },
  {
   "cell_type": "code",
   "execution_count": 351,
   "metadata": {},
   "outputs": [],
   "source": [
    "hubberReg1 = linear_model.HuberRegressor(alpha=0.0, epsilon=10).fit(x_train1,y_train1)"
   ]
  },
  {
   "cell_type": "code",
   "execution_count": 352,
   "metadata": {},
   "outputs": [
    {
     "name": "stdout",
     "output_type": "stream",
     "text": [
      "Lasso regression MSE score: 2.2145553655104244\n"
     ]
    }
   ],
   "source": [
    "scoreshubber = cross_validate(hubberReg1, x_train, y_train, cv=5, scoring = \"neg_mean_squared_error\", return_train_score=True)\n",
    "print(\"Lasso regression MSE score: \" + str(abs(np.average(scoreshubber[\"test_score\"])) ))"
   ]
  }
 ],
 "metadata": {
  "interpreter": {
   "hash": "7010eaac7a649698cb614f1498704cb43541e040c41288c254b1b379e133eb80"
  },
  "kernelspec": {
   "display_name": "Python 3.8.8 64-bit ('base': conda)",
   "name": "python3"
  },
  "language_info": {
   "codemirror_mode": {
    "name": "ipython",
    "version": 3
   },
   "file_extension": ".py",
   "mimetype": "text/x-python",
   "name": "python",
   "nbconvert_exporter": "python",
   "pygments_lexer": "ipython3",
   "version": "3.8.8"
  },
  "orig_nbformat": 4
 },
 "nbformat": 4,
 "nbformat_minor": 2
}
