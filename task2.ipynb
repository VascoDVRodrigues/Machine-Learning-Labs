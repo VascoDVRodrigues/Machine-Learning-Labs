{
 "cells": [
  {
   "cell_type": "code",
   "execution_count": 119,
   "metadata": {},
   "outputs": [],
   "source": [
    "import numpy as np\n",
    "from sklearn import linear_model\n",
    "from sklearn.model_selection import cross_validate\n"
   ]
  },
  {
   "cell_type": "code",
   "execution_count": 120,
   "metadata": {},
   "outputs": [],
   "source": [
    "x_train = np.load(\"./Xtrain_Regression_Part2.npy\")\n",
    "y_train = np.load(\"./Ytrain_Regression_Part2.npy\")"
   ]
  },
  {
   "cell_type": "code",
   "execution_count": 121,
   "metadata": {},
   "outputs": [],
   "source": [
    "hubberReg = linear_model.HuberRegressor(alpha=0.0, epsilon=1.25).fit(x_train,y_train.ravel())\n",
    "lassoReg = linear_model.Lasso(alpha=0.002).fit(x_train,y_train)\n",
    "y_testLasso  = hubberReg.predict(x_train)"
   ]
  },
  {
   "cell_type": "code",
   "execution_count": 122,
   "metadata": {},
   "outputs": [
    {
     "name": "stdout",
     "output_type": "stream",
     "text": [
      "Hubber regression MSE score before outlier removal: 1.6756423110486067\n",
      "Lasso regression MSE score before outlier removal: 1.9565510609224872\n"
     ]
    }
   ],
   "source": [
    "scoreshubber = cross_validate(hubberReg, x_train, y_train.ravel(), cv=100, scoring = \"neg_mean_squared_error\", return_train_score=True)\n",
    "print(\"Hubber regression MSE score before outlier removal: \" + str(abs(np.average(scoreshubber[\"test_score\"])) ))\n",
    "scoreslasso = cross_validate(lassoReg, x_train, y_train.ravel(), cv=100, scoring = \"neg_mean_squared_error\", return_train_score=True)\n",
    "print(\"Lasso regression MSE score before outlier removal: \" + str(abs(np.average(scoreslasso[\"test_score\"])) ))"
   ]
  },
  {
   "cell_type": "code",
   "execution_count": 123,
   "metadata": {},
   "outputs": [],
   "source": [
    "#scoreshubber[\"test_score\"]"
   ]
  },
  {
   "cell_type": "code",
   "execution_count": 124,
   "metadata": {},
   "outputs": [],
   "source": [
    "#scoreslasso[\"test_score\"]"
   ]
  },
  {
   "cell_type": "code",
   "execution_count": 125,
   "metadata": {},
   "outputs": [],
   "source": [
    "popper1 = []\n",
    "for i in range(scoreshubber[\"test_score\"].size):\n",
    "    if abs(scoreshubber[\"test_score\"][i])>1:\n",
    "        popper1.append(i)\n"
   ]
  },
  {
   "cell_type": "code",
   "execution_count": 126,
   "metadata": {},
   "outputs": [],
   "source": [
    "#y_train = y_train.reshape(-1)\n",
    "#popper = []\n",
    "#diff = y_train - y_testLasso\n",
    "#diff = diff * diff\n",
    "#for i in range(diff.size):\n",
    "#    if diff[i] >0.7:\n",
    "#        popper.append(i)\n",
    "popper1 = popper1[::-1]\n",
    "x_train1 = np.copy(x_train)\n",
    "y_train1 = np.copy(y_train)\n",
    "for i in popper1:\n",
    "    x_train1 = np.delete(x_train1, i, axis = 0)\n",
    "    y_train1 = np.delete(y_train1, i, axis = 0)\n"
   ]
  },
  {
   "cell_type": "code",
   "execution_count": 127,
   "metadata": {},
   "outputs": [],
   "source": [
    "lassoReg1 = linear_model.Lasso(alpha=0.002).fit(x_train1,y_train1)\n",
    "hubberReg1 = linear_model.HuberRegressor(alpha=0.0, epsilon=1.25).fit(x_train1,y_train1.ravel())"
   ]
  },
  {
   "cell_type": "code",
   "execution_count": 128,
   "metadata": {},
   "outputs": [
    {
     "name": "stdout",
     "output_type": "stream",
     "text": [
      "Lasso regression MSE score: 0.01783488260297859\n"
     ]
    }
   ],
   "source": [
    "scoreslasso1 = cross_validate(lassoReg1, x_train1, y_train1, cv=5, scoring = \"neg_mean_squared_error\", return_train_score=True)\n",
    "print(\"Lasso regression MSE score: \" + str(abs(np.average(scoreslasso1[\"test_score\"])) ))\n"
   ]
  },
  {
   "cell_type": "code",
   "execution_count": 129,
   "metadata": {},
   "outputs": [
    {
     "name": "stdout",
     "output_type": "stream",
     "text": [
      "Lasso regression MSE score: 0.018882882439469766\n"
     ]
    }
   ],
   "source": [
    "scoreshubber = cross_validate(hubberReg1, x_train1, y_train1.ravel(), cv=5, scoring = \"neg_mean_squared_error\", return_train_score=True)\n",
    "print(\"Lasso regression MSE score: \" + str(abs(np.average(scoreshubber[\"test_score\"])) ))"
   ]
  }
 ],
 "metadata": {
  "interpreter": {
   "hash": "7010eaac7a649698cb614f1498704cb43541e040c41288c254b1b379e133eb80"
  },
  "kernelspec": {
   "display_name": "Python 3.8.8 64-bit ('base': conda)",
   "name": "python3"
  },
  "language_info": {
   "codemirror_mode": {
    "name": "ipython",
    "version": 3
   },
   "file_extension": ".py",
   "mimetype": "text/x-python",
   "name": "python",
   "nbconvert_exporter": "python",
   "pygments_lexer": "ipython3",
   "version": "3.8.8"
  },
  "orig_nbformat": 4
 },
 "nbformat": 4,
 "nbformat_minor": 2
}
